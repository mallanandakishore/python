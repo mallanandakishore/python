{
 "cells": [
  {
   "cell_type": "markdown",
   "metadata": {},
   "source": [
    "### Filehandling\n",
    " \n",
    "- what is a file\n",
    "- what is file handling\n",
    "- file methods\n",
    "- Different Modes\n",
    "- use of \"with\" statement\n",
    "- File:\n",
    "    - File is saved in some loaction on local system to store some information\n",
    "- Ex:\n",
    "    - .txt,.jpg,.html,.ipyb,.png,.pdf\n",
    "- Filehandling:\n",
    "    - create,reading,update,delete\n",
    "    - create\n",
    "    - open\n",
    "    - working\n",
    "    - close\n",
    "- File methods\n",
    "     - open()\n",
    "         - syntax : file_obj = open(\"filename\",\"mode\")\n",
    "     - read()\n",
    "         - synatx : file_obj.read(size)\n",
    "     - write()\n",
    "         - syntax : file_obj.write(data)\n",
    "     - close()\n",
    "         - syntax : file_obj.close()\n",
    "     - readlines()\n",
    "         - syntax : file_obj.readlines()\n",
    "         \n",
    "- Differnent Modes:\n",
    "    - open(\"filename\",\"mode\")\n",
    "    - open(\"filename\",\"r\")\n",
    "    - open(\"filename\",\"w\")\n",
    "    - open(\"filename\",\"a\")\n",
    "    - open(\"filenmae\",\"r+\")\n",
    "    - open(\"filename\",\"w+\")\n",
    "    \n",
    "    "
   ]
  },
  {
   "cell_type": "code",
   "execution_count": 2,
   "metadata": {},
   "outputs": [
    {
     "name": "stdout",
     "output_type": "stream",
     "text": [
      "Done\n"
     ]
    }
   ],
   "source": [
    "# creating a file\n",
    "f = open(\"file.txt\",\"w\")\n",
    "data = \"Welcome to python internship program\"\n",
    "f.write(data)\n",
    "print(\"Done\")\n",
    "f.close()\n"
   ]
  },
  {
   "cell_type": "code",
   "execution_count": 3,
   "metadata": {},
   "outputs": [
    {
     "ename": "FileNotFoundError",
     "evalue": "[Errno 2] No such file or directory: 'file1.txt'",
     "output_type": "error",
     "traceback": [
      "\u001b[1;31m---------------------------------------------------------------------------\u001b[0m",
      "\u001b[1;31mFileNotFoundError\u001b[0m                         Traceback (most recent call last)",
      "\u001b[1;32m<ipython-input-3-742d92977f6b>\u001b[0m in \u001b[0;36m<module>\u001b[1;34m\u001b[0m\n\u001b[0;32m      1\u001b[0m \u001b[1;31m# creating a file\u001b[0m\u001b[1;33m\u001b[0m\u001b[1;33m\u001b[0m\u001b[1;33m\u001b[0m\u001b[0m\n\u001b[1;32m----> 2\u001b[1;33m \u001b[0mf\u001b[0m \u001b[1;33m=\u001b[0m \u001b[0mopen\u001b[0m\u001b[1;33m(\u001b[0m\u001b[1;34m\"file1.txt\"\u001b[0m\u001b[1;33m,\u001b[0m\u001b[1;34m\"r\"\u001b[0m\u001b[1;33m)\u001b[0m\u001b[1;33m\u001b[0m\u001b[1;33m\u001b[0m\u001b[0m\n\u001b[0m\u001b[0;32m      3\u001b[0m \u001b[0mdata\u001b[0m \u001b[1;33m=\u001b[0m \u001b[1;34m\"Welcome to python internship program\"\u001b[0m\u001b[1;33m\u001b[0m\u001b[1;33m\u001b[0m\u001b[0m\n\u001b[0;32m      4\u001b[0m \u001b[0mf\u001b[0m\u001b[1;33m.\u001b[0m\u001b[0mwrite\u001b[0m\u001b[1;33m(\u001b[0m\u001b[0mdata\u001b[0m\u001b[1;33m)\u001b[0m\u001b[1;33m\u001b[0m\u001b[1;33m\u001b[0m\u001b[0m\n\u001b[0;32m      5\u001b[0m \u001b[0mprint\u001b[0m\u001b[1;33m(\u001b[0m\u001b[1;34m\"Done\"\u001b[0m\u001b[1;33m)\u001b[0m\u001b[1;33m\u001b[0m\u001b[1;33m\u001b[0m\u001b[0m\n",
      "\u001b[1;31mFileNotFoundError\u001b[0m: [Errno 2] No such file or directory: 'file1.txt'"
     ]
    }
   ],
   "source": [
    "# creating a file\n",
    "f = open(\"file1.txt\",\"r\")\n",
    "data = \"Welcome to python internship program\"\n",
    "f.write(data)\n",
    "print(\"Done\")\n",
    "f.close()\n"
   ]
  },
  {
   "cell_type": "code",
   "execution_count": 4,
   "metadata": {},
   "outputs": [
    {
     "name": "stdout",
     "output_type": "stream",
     "text": [
      "Welcome to python internship program\n"
     ]
    }
   ],
   "source": [
    "# reading the data\n",
    "file = open(\"file.txt\",\"r\")\n",
    "data1 = file.read()\n",
    "print(data1)\n",
    "file.close()"
   ]
  },
  {
   "cell_type": "code",
   "execution_count": 8,
   "metadata": {},
   "outputs": [
    {
     "name": "stdout",
     "output_type": "stream",
     "text": [
      "Completed\n"
     ]
    }
   ],
   "source": [
    "# append some data\n",
    "file = open(\"file.txt\",\"a\")\n",
    "#data1 = \"Hello everyone\"\n",
    "file.write(\"\\n\"+\"Hello everyone\")\n",
    "print(\"Completed\")\n",
    "file.close()"
   ]
  },
  {
   "cell_type": "code",
   "execution_count": 9,
   "metadata": {},
   "outputs": [
    {
     "name": "stdout",
     "output_type": "stream",
     "text": [
      "Welcome to python internship programHello everyoneHello everyoneHello everyone\n",
      "Hello everyone\n"
     ]
    }
   ],
   "source": [
    "with open(\"file.txt\",\"r\") as file:\n",
    "    data = file.read()\n",
    "    print(data)"
   ]
  },
  {
   "cell_type": "code",
   "execution_count": 10,
   "metadata": {},
   "outputs": [
    {
     "name": "stdout",
     "output_type": "stream",
     "text": [
      "enter somedataApssdc is conducting online workshops\n",
      "completed....................\n"
     ]
    }
   ],
   "source": [
    "file = open(\"file2.txt\",\"w\")\n",
    "file.write(input(\"enter somedata\"))\n",
    "print(\"completed\"+(\".\"*20))\n",
    "file.close()"
   ]
  },
  {
   "cell_type": "code",
   "execution_count": 11,
   "metadata": {},
   "outputs": [],
   "source": [
    "\n",
    "# \\ replace with \\\\  \n",
    "# \\ replace with /    \n",
    "# r - > rawpath or rawlocation,r\"D:\\\"\""
   ]
  },
  {
   "cell_type": "code",
   "execution_count": 12,
   "metadata": {
    "collapsed": true
   },
   "outputs": [
    {
     "name": "stdout",
     "output_type": "stream",
     "text": [
      "function pb1_callback(handles)\n",
      "//Write your callback for  pb1  here\n",
      "handles.edit.string=string(handles.edit.string)+string('1')\n",
      "endfunction\n",
      "\n",
      "\n",
      "function pb2_callback(handles)\n",
      "//Write your callback for  pb2  here\n",
      "handles.edit.string=string(handles.edit.string)+string('2')\n",
      "endfunction\n",
      "\n",
      "\n",
      "function pb3_callback(handles)\n",
      "//Write your callback for  pb3  here\n",
      "handles.edit.string=string(handles.edit.string)+string('3')\n",
      "endfunction\n",
      "\n",
      "\n",
      "function pb4_callback(handles)\n",
      "//Write your callback for  pb4  here\n",
      "handles.edit.string=string(handles.edit.string)+string('4')\n",
      "endfunction\n",
      "\n",
      "\n",
      "function pb5_callback(handles)\n",
      "//Write your callback for  pb5  here\n",
      "handles.edit.string=string(handles.edit.string)+string('5')\n",
      "endfunction\n",
      "\n",
      "\n",
      "function pb6_callback(handles)\n",
      "//Write your callback for  pb6  here\n",
      "handles.edit.string=string(handles.edit.string)+string('6')\n",
      "endfunction\n",
      "\n",
      "\n",
      "function pb7_callback(handles)\n",
      "//Write your callback for  pb7  here\n",
      "handles.edit.string=string(handles.edit.string)+string('7')\n",
      "endfunction\n",
      "\n",
      "\n",
      "function pb8_callback(handles)\n",
      "//Write your callback for  pb8  here\n",
      "handles.edit.string=string(handles.edit.string)+string('8')\n",
      "endfunction\n",
      "\n",
      "\n",
      "function pb9_callback(handles)\n",
      "//Write your callback for  pb9  here\n",
      "handles.edit.string=string(handles.edit.string)+string('9')\n",
      "endfunction\n",
      "\n",
      "\n",
      "function pb_0_callback(handles)\n",
      "//Write your callback for  pb_0  here\n",
      "handles.edit.string=string(handles.edit.string)+string('0')\n",
      "endfunction\n",
      "\n",
      "\n",
      "function equal_callback(handles)\n",
      "//Write your callback for  equal  here\n",
      "stng=handles.edit.string\n",
      "eq=eval(stng)\n",
      "handles.edit.string=string(eq)\n",
      "endfunction\n",
      "\n",
      "\n",
      "function clear_callback(handles)\n",
      "//Write your callback for  clear  here\n",
      "handles.edit.string=\"\"\n",
      "//newstr= \"\"; \n",
      "//set(handles.edit,\"String\", newstr)\n",
      "endfunction\n",
      "\n",
      "\n",
      "function add_callback(handles)\n",
      "//Write your callback for  add  here\n",
      "handles.edit.string=string(handles.edit.string)+string('+')\n",
      "endfunction\n",
      "\n",
      "\n",
      "function sub_callback(handles)\n",
      "//Write your callback for  sub  here\n",
      "handles.edit.string=string(handles.edit.string)+string('-')\n",
      "endfunction\n",
      "\n",
      "\n",
      "function mul_callback(handles)\n",
      "//Write your callback for  mul  here\n",
      "handles.edit.string=string(handles.edit.string)+string('*')\n",
      "endfunction\n",
      "\n",
      "\n",
      "function div_callback(handles)\n",
      "//Write your callback for  div  here\n",
      "handles.edit.string=string(handles.edit.string)+string('/')\n",
      "endfunction\n",
      "\n"
     ]
    }
   ],
   "source": [
    "f = open(\"D:\\\\Calculator Scilab Code.txt\",\"r\")# filelocation\\filename.txt\n",
    "d = f.read()\n",
    "print(d)\n",
    "f.close()"
   ]
  },
  {
   "cell_type": "markdown",
   "metadata": {},
   "source": [
    "- File objective methods\n",
    "    - Seek()\n",
    "        - used to change the cursor position\n",
    "    - tell()\n",
    "         - used to know the cursor position"
   ]
  },
  {
   "cell_type": "code",
   "execution_count": 15,
   "metadata": {},
   "outputs": [
    {
     "name": "stdout",
     "output_type": "stream",
     "text": [
      "11\n",
      "Welcome to \n",
      "20\n"
     ]
    }
   ],
   "source": [
    "f = open(\"file.txt\",\"r\")\n",
    "data = f.read(11)\n",
    "print(f.tell())\n",
    "print(data)\n",
    "f.seek(20)\n",
    "print(f.tell())\n",
    "f.close()"
   ]
  },
  {
   "cell_type": "markdown",
   "metadata": {},
   "source": [
    "- Task:\n",
    "    - read the data in reverse order"
   ]
  },
  {
   "cell_type": "code",
   "execution_count": 19,
   "metadata": {
    "collapsed": true
   },
   "outputs": [
    {
     "name": "stdout",
     "output_type": "stream",
     "text": [
      "enoyreve olleH\n",
      "enoyreve olleHenoyreve olleHenoyreve olleHmargorp pihsnretni nohtyp ot emocleW\n"
     ]
    }
   ],
   "source": [
    "with open(\"file.txt\",\"r\") as file:\n",
    "    data = file.read()\n",
    "    print(data[::-1])"
   ]
  },
  {
   "cell_type": "code",
   "execution_count": 18,
   "metadata": {
    "collapsed": true
   },
   "outputs": [
    {
     "data": {
      "text/plain": [
       "'gnirts'"
      ]
     },
     "execution_count": 18,
     "metadata": {},
     "output_type": "execute_result"
    }
   ],
   "source": [
    "a = \"string\"\n",
    "#gnirts\n",
    "a[::-1]"
   ]
  },
  {
   "cell_type": "code",
   "execution_count": 20,
   "metadata": {
    "collapsed": true
   },
   "outputs": [
    {
     "name": "stdout",
     "output_type": "stream",
     "text": [
      "['Welcome to python internship programHello everyoneHello everyoneHello everyone\\n', 'Hello everyone']\n"
     ]
    }
   ],
   "source": [
    "with open(\"file.txt\",\"r\") as file:\n",
    "    data = file.readlines()\n",
    "    print(data)"
   ]
  },
  {
   "cell_type": "code",
   "execution_count": 21,
   "metadata": {},
   "outputs": [
    {
     "name": "stdout",
     "output_type": "stream",
     "text": [
      "Welcome to python internship programHello everyoneHello everyoneHello everyone\n",
      "\n",
      "Hello everyone\n"
     ]
    }
   ],
   "source": [
    "with open(\"file.txt\",\"r\") as file:\n",
    "    data = file.readlines()\n",
    "    for i in data:\n",
    "        print(i)"
   ]
  },
  {
   "cell_type": "code",
   "execution_count": 26,
   "metadata": {},
   "outputs": [
    {
     "name": "stdout",
     "output_type": "stream",
     "text": [
      "['Welcome to python internship programHello everyoneHello everyoneHello everyone\\n', 'Hello everyone']\n",
      "Welcome to python internship programHello everyoneHello everyoneHello everyone\n",
      " everyline\n",
      "['Welcome', 'to', 'python', 'internship', 'programHello', 'everyoneHello', 'everyoneHello', 'everyone\\n'] words\n",
      "8 length\n",
      "Hello everyone everyline\n",
      "['Hello', 'everyone'] words\n",
      "2 length\n"
     ]
    }
   ],
   "source": [
    "# split the data and find how many words are present in each line\n",
    "with open(\"file.txt\",\"r\") as file:\n",
    "    data = file.readlines()\n",
    "    print(data)\n",
    "    for lines in data:\n",
    "        print(lines,\"everyline\")\n",
    "        words = lines.split(\" \")\n",
    "        print(words,\"words\")\n",
    "        print(len(words),\"length\")\n",
    "    "
   ]
  },
  {
   "cell_type": "code",
   "execution_count": 28,
   "metadata": {
    "collapsed": true
   },
   "outputs": [
    {
     "name": "stdout",
     "output_type": "stream",
     "text": [
      "W\n",
      "e\n",
      "l\n",
      "c\n",
      "o\n",
      "m\n",
      "e\n",
      " \n",
      "t\n",
      "o\n",
      " \n",
      "p\n",
      "y\n",
      "t\n",
      "h\n",
      "o\n",
      "n\n",
      " \n",
      "i\n",
      "n\n",
      "t\n",
      "e\n",
      "r\n",
      "n\n",
      "s\n",
      "h\n",
      "i\n",
      "p\n",
      " \n",
      "p\n",
      "r\n",
      "o\n",
      "g\n",
      "r\n",
      "a\n",
      "m\n",
      "H\n",
      "e\n",
      "l\n",
      "l\n",
      "o\n",
      " \n",
      "e\n",
      "v\n",
      "e\n",
      "r\n",
      "y\n",
      "o\n",
      "n\n",
      "e\n",
      "H\n",
      "e\n",
      "l\n",
      "l\n",
      "o\n",
      " \n",
      "e\n",
      "v\n",
      "e\n",
      "r\n",
      "y\n",
      "o\n",
      "n\n",
      "e\n",
      "H\n",
      "e\n",
      "l\n",
      "l\n",
      "o\n",
      " \n",
      "e\n",
      "v\n",
      "e\n",
      "r\n",
      "y\n",
      "o\n",
      "n\n",
      "e\n",
      "\n",
      "\n",
      "H\n",
      "e\n",
      "l\n",
      "l\n",
      "o\n",
      " \n",
      "e\n",
      "v\n",
      "e\n",
      "r\n",
      "y\n",
      "o\n",
      "n\n",
      "e\n"
     ]
    }
   ],
   "source": [
    "with open(\"file.txt\",\"r\") as file:\n",
    "    data = file.read()\n",
    "    for ele in data:\n",
    "        print(ele)"
   ]
  },
  {
   "cell_type": "code",
   "execution_count": 32,
   "metadata": {},
   "outputs": [
    {
     "name": "stdout",
     "output_type": "stream",
     "text": [
      "Welcome ---> 7\n",
      "to ---> 2\n",
      "python ---> 6\n",
      "internship ---> 10\n",
      "programHello ---> 12\n",
      "everyoneHello ---> 13\n",
      "everyoneHello ---> 13\n",
      "everyone\n",
      " ---> 9\n",
      "Hello ---> 5\n",
      "everyone ---> 8\n"
     ]
    }
   ],
   "source": [
    "# find the length of each word and also print that word\n",
    "\n",
    "with open(\"file.txt\",\"r\") as file:\n",
    "    data = file.readlines()\n",
    "    #print(data)\n",
    "    for lines in data:\n",
    "        #print(lines,\"everyline\")\n",
    "        words = lines.split(\" \")\n",
    "        #print(words,\"words\")\n",
    "        #print(len(words),\"length\")\n",
    "        for ele in words:\n",
    "            print(ele,\"--->\",len(ele))\n",
    "    "
   ]
  },
  {
   "cell_type": "code",
   "execution_count": null,
   "metadata": {},
   "outputs": [],
   "source": [
    "# find out the frequency of each word\n",
    "\n",
    "#\"hii hello hii hello everyone\"\n",
    "# d = {\"hii\":2,\"hello\":2,\"everyone\":1}"
   ]
  }
 ],
 "metadata": {
  "kernelspec": {
   "display_name": "Python 3",
   "language": "python",
   "name": "python3"
  },
  "language_info": {
   "codemirror_mode": {
    "name": "ipython",
    "version": 3
   },
   "file_extension": ".py",
   "mimetype": "text/x-python",
   "name": "python",
   "nbconvert_exporter": "python",
   "pygments_lexer": "ipython3",
   "version": "3.7.3"
  }
 },
 "nbformat": 4,
 "nbformat_minor": 2
}
