{
 "cells": [
  {
   "cell_type": "markdown",
   "metadata": {},
   "source": [
    "```\n",
    "Input.text:\n",
    "    \n",
    "    2 10\n",
    "    5 15\n",
    "Output.text:\n",
    "    \n",
    "    2 table upto 10 rows\n",
    "    \n",
    "    \n",
    "    5 table upto 15 rows\n",
    "    ```"
   ]
  },
  {
   "cell_type": "code",
   "execution_count": 75,
   "metadata": {},
   "outputs": [
    {
     "name": "stdout",
     "output_type": "stream",
     "text": [
      "21 7\n"
     ]
    }
   ],
   "source": [
    "with open(\"DataFiles/input1.text\",\"a\") as ft:\n",
    "    p = input()\n",
    "    ft.write(p+\"\\n\")"
   ]
  },
  {
   "cell_type": "code",
   "execution_count": 15,
   "metadata": {},
   "outputs": [
    {
     "name": "stdout",
     "output_type": "stream",
     "text": [
      "2 10\n",
      "2 10 <class 'str'>\n",
      "0 <class 'str'>\n"
     ]
    }
   ],
   "source": [
    "n = input()\n",
    "print(n,type(n))\n",
    "t = n[3]\n",
    "print(t,type(t))\n",
    "# r = int(n[1])\n",
    "# print(r,type(r))\n",
    "# print(t,r)"
   ]
  },
  {
   "cell_type": "code",
   "execution_count": 22,
   "metadata": {},
   "outputs": [
    {
     "name": "stdout",
     "output_type": "stream",
     "text": [
      "5 15\n",
      "5 x 01 = 05\n",
      "5 x 02 = 10\n",
      "5 x 03 = 15\n",
      "5 x 04 = 20\n",
      "5 x 05 = 25\n",
      "5 x 06 = 30\n",
      "5 x 07 = 35\n",
      "5 x 08 = 40\n",
      "5 x 09 = 45\n",
      "5 x 10 = 50\n",
      "5 x 11 = 55\n",
      "5 x 12 = 60\n",
      "5 x 13 = 65\n",
      "5 x 14 = 70\n",
      "5 x 15 = 75\n"
     ]
    }
   ],
   "source": [
    "n = input().split()\n",
    "t = int(n[0])\n",
    "r = int(n[1])\n",
    "for i in range(1,r+1):\n",
    "    print(\"{} x {:02} = {:02}\".format(t,i,t*i))"
   ]
  },
  {
   "cell_type": "code",
   "execution_count": 69,
   "metadata": {},
   "outputs": [],
   "source": [
    "with open(\"DataFiles/input1.text\",\"r\") as fr:\n",
    "    r = fr.readlines()\n",
    "    f = open(\"DataFiles/Output1.text\",\"w\")\n",
    "    for t in r:\n",
    "        y = t.split(\"\\n\")[0]\n",
    "        p = y.split()\n",
    "        ta = int(p[0])\n",
    "        ra = int(p[1])\n",
    "        m = \"\"\n",
    "        with open(\"DataFiles/Output1.text\",\"a\") as fp:\n",
    "            for j in range(1,ra+1):\n",
    "                m = m+\"{} x {:02} = {:02}\".format(ta,j,ta*j)+\"\\n\"\n",
    "            fp.write(\"\\n\")\n",
    "            fp.write(m)"
   ]
  },
  {
   "cell_type": "code",
   "execution_count": 76,
   "metadata": {},
   "outputs": [],
   "source": [
    "with open(\"DataFiles/input1.text\",\"r\") as fr:\n",
    "    r = fr.readlines()\n",
    "    with open(\"DataFiles/Output1.text\",\"w\") as fp:\n",
    "        for t in r:\n",
    "            y = t.split(\"\\n\")[0]\n",
    "            p = y.split()\n",
    "            ta = int(p[0])\n",
    "            ra = int(p[1])\n",
    "            m = \"\"\n",
    "            for j in range(1,ra+1):\n",
    "                m = m+\"{} x {:02} = {:02}\".format(ta,j,ta*j)+\"\\n\"\n",
    "            fp.write(m+\"\\n\")"
   ]
  },
  {
   "cell_type": "markdown",
   "metadata": {},
   "source": [
    "```\n",
    "Studentsmarks.text:\n",
    "    ---------------------------------------------------------------------\n",
    "    |s.no   |    name   |  Maths  | Physics  | Chemistry | Hindi | Telugu|\n",
    "    ---------------------------------------------------------------------\n",
    "    | 01    |    Raju   |   45    |   56     |    67     |  56   |  78   |\n",
    "    | 02    |   Suresh  |   50    |   67     |    90     |  45   |  23   |\n",
    "    ----------------------------------------------------------------------\n",
    "    \n",
    "Studentsgrade.text\n",
    "\n",
    "    s.no     name      total     Grade\n",
    "     01      suresh     450        A \n",
    "   ``` "
   ]
  },
  {
   "cell_type": "code",
   "execution_count": null,
   "metadata": {},
   "outputs": [],
   "source": []
  }
 ],
 "metadata": {
  "kernelspec": {
   "display_name": "Python 3",
   "language": "python",
   "name": "python3"
  },
  "language_info": {
   "codemirror_mode": {
    "name": "ipython",
    "version": 3
   },
   "file_extension": ".py",
   "mimetype": "text/x-python",
   "name": "python",
   "nbconvert_exporter": "python",
   "pygments_lexer": "ipython3",
   "version": "3.7.3"
  }
 },
 "nbformat": 4,
 "nbformat_minor": 2
}
