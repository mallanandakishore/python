{
 "cells": [
  {
   "cell_type": "code",
   "execution_count": 1,
   "metadata": {},
   "outputs": [
    {
     "name": "stdout",
     "output_type": "stream",
     "text": [
      "Enter a range:3\n",
      "Enter a value:56\n",
      "Enter a value:78\n",
      "Enter a value:98\n",
      "[56, 78, 98]\n"
     ]
    }
   ],
   "source": [
    "# Dynamic list creation\n",
    "# li = [] or li = list()\n",
    "#input:Enter a range: 5\n",
    "#[1,2,3,4,67]\n",
    "li = []\n",
    "n = int(input(\"Enter a range:\"))\n",
    "for i in range(n):\n",
    "    val = int(input(\"Enter a value:\"))\n",
    "    li.append(val)\n",
    "    \n",
    "    \n",
    "print(li)"
   ]
  },
  {
   "cell_type": "code",
   "execution_count": 6,
   "metadata": {},
   "outputs": [
    {
     "name": "stdout",
     "output_type": "stream",
     "text": [
      "[12, 34, 44, 456, 232]\n",
      "778\n"
     ]
    }
   ],
   "source": [
    "li = [12,34,44,55,75,23,456,232]\n",
    "# output:[12,34,44,456,232]\n",
    "# print sum([12,34,44,456,232])\n",
    "eli = []\n",
    "for val in li:\n",
    "    if val%2==0:\n",
    "        eli.append(val)\n",
    "print(eli)\n",
    "#sm=0\n",
    "#for i in eli:\n",
    "#    sm += i\n",
    "#print(sm)\n",
    "print(sum(eli))"
   ]
  },
  {
   "cell_type": "code",
   "execution_count": null,
   "metadata": {},
   "outputs": [],
   "source": []
  },
  {
   "cell_type": "code",
   "execution_count": null,
   "metadata": {},
   "outputs": [],
   "source": []
  }
 ],
 "metadata": {
  "kernelspec": {
   "display_name": "Python 3",
   "language": "python",
   "name": "python3"
  },
  "language_info": {
   "codemirror_mode": {
    "name": "ipython",
    "version": 3
   },
   "file_extension": ".py",
   "mimetype": "text/x-python",
   "name": "python",
   "nbconvert_exporter": "python",
   "pygments_lexer": "ipython3",
   "version": "3.7.4"
  }
 },
 "nbformat": 4,
 "nbformat_minor": 4
}
