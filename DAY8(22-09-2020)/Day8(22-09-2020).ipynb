{
 "cells": [
  {
   "cell_type": "markdown",
   "metadata": {},
   "source": [
    "- To check wheather given number is positive number or negative number?\n",
    "    - first you have to read a number from user\n",
    "    - then write logic to check that number is positive or not\n",
    "- To check wheather given number is even number or not?"
   ]
  },
  {
   "cell_type": "code",
   "execution_count": 4,
   "metadata": {},
   "outputs": [
    {
     "name": "stdout",
     "output_type": "stream",
     "text": [
      "Enter a number:-1\n",
      "Negative number\n"
     ]
    }
   ],
   "source": [
    "n = int(input(\"Enter a number:\"))\n",
    "if (n>=0):\n",
    "    print(\"Positive number\")\n",
    "else:\n",
    "    print(\"Negative number\")"
   ]
  },
  {
   "cell_type": "code",
   "execution_count": 6,
   "metadata": {},
   "outputs": [
    {
     "name": "stdout",
     "output_type": "stream",
     "text": [
      "57\n",
      "odd\n"
     ]
    }
   ],
   "source": [
    "n = int(input())\n",
    "if n%2==0:\n",
    "    print(\"even\")\n",
    "else:\n",
    "    print('odd')"
   ]
  },
  {
   "cell_type": "markdown",
   "metadata": {},
   "source": [
    "- To check wheather given year is leap year or not?\n",
    "- To check wheather given character is vowel or consonant?\n",
    "- To check wheather given two values are eqaul or not?\n",
    "- To find biggest of two numbers?\n",
    "- To find the biggest of three numbers?\n",
    "- To calculate the student grading system?\n",
    "- To print the 1 to n natural numbers in increment order?\n",
    "- To print the 1 to n natural numbers in decrement order?\n",
    "- To print the sum of 1 to n natural numbers?\n",
    "- To print the even numbers between 1 to n natural numbers?\n",
    "- To print the odd numbers between 1 to n natural numbers?\n",
    "- To print the sum of even natural numbers?\n",
    "- To print the sum of odd natural numbers?"
   ]
  },
  {
   "cell_type": "code",
   "execution_count": 13,
   "metadata": {},
   "outputs": [
    {
     "name": "stdout",
     "output_type": "stream",
     "text": [
      "0\n",
      "True\n"
     ]
    }
   ],
   "source": [
    "def isPositiveNum(n):\n",
    "    if n>=0:\n",
    "        return True\n",
    "    else:\n",
    "        return False\n",
    "    \n",
    "a = int(input())\n",
    "rs = isPositiveNum(a)\n",
    "print(rs)"
   ]
  },
  {
   "cell_type": "code",
   "execution_count": 15,
   "metadata": {},
   "outputs": [
    {
     "name": "stdout",
     "output_type": "stream",
     "text": [
      "67\n",
      "False\n"
     ]
    }
   ],
   "source": [
    "def isEven(n1):\n",
    "    if n1%2==0:\n",
    "        return True\n",
    "    else:\n",
    "        return False\n",
    "    \n",
    "n = int(input())\n",
    "rs = isEven(n)\n",
    "print(rs)"
   ]
  },
  {
   "cell_type": "code",
   "execution_count": 17,
   "metadata": {},
   "outputs": [
    {
     "name": "stdout",
     "output_type": "stream",
     "text": [
      "enter a range:10\n",
      "30\n"
     ]
    }
   ],
   "source": [
    "# To print the sum of even natural numbers?\n",
    "num = int(input(\"enter a range:\"))\n",
    "sm = 0\n",
    "for i in range(2,num+1):\n",
    "    if isEven(i):\n",
    "        sm += i\n",
    "    \n",
    "print(sm)"
   ]
  },
  {
   "cell_type": "code",
   "execution_count": 20,
   "metadata": {},
   "outputs": [
    {
     "name": "stdout",
     "output_type": "stream",
     "text": [
      "enter a range:10\n",
      "25\n"
     ]
    }
   ],
   "source": [
    "# To print the sum of odd natural numbers?\n",
    "num = int(input(\"enter a range:\"))\n",
    "sm = 0\n",
    "for i in range(1,num+1):\n",
    "    if isEven(i):\n",
    "        continue\n",
    "    else:\n",
    "        sm += i\n",
    "    \n",
    "print(sm)"
   ]
  },
  {
   "cell_type": "code",
   "execution_count": 23,
   "metadata": {},
   "outputs": [
    {
     "name": "stdout",
     "output_type": "stream",
     "text": [
      "10\n",
      "55\n"
     ]
    }
   ],
   "source": [
    "# To print the sum of n natural numbers?\n",
    "def sumOfNNaturalNums(n):\n",
    "    sm = 0\n",
    "    for i in range(1,n+1):\n",
    "        sm += i\n",
    "    return sm\n",
    "    \n",
    "num = int(input())\n",
    "rs = sumOfNNaturalNums(num)\n",
    "print(rs)"
   ]
  },
  {
   "cell_type": "code",
   "execution_count": 25,
   "metadata": {},
   "outputs": [
    {
     "name": "stdout",
     "output_type": "stream",
     "text": [
      "10\n",
      "3628800\n"
     ]
    }
   ],
   "source": [
    "# To print the product of n natural numbers?\n",
    "def productOfNNaturalNums(n):\n",
    "    sm = 1\n",
    "    for i in range(1,n+1):\n",
    "        sm *= i\n",
    "    return sm\n",
    "    \n",
    "num = int(input())\n",
    "rs = productOfNNaturalNums(num)\n",
    "print(rs)"
   ]
  },
  {
   "cell_type": "code",
   "execution_count": 26,
   "metadata": {},
   "outputs": [
    {
     "data": {
      "text/plain": [
       "2"
      ]
     },
     "execution_count": 26,
     "metadata": {},
     "output_type": "execute_result"
    }
   ],
   "source": [
    "1994%4"
   ]
  },
  {
   "cell_type": "code",
   "execution_count": 27,
   "metadata": {},
   "outputs": [
    {
     "data": {
      "text/plain": [
       "0"
      ]
     },
     "execution_count": 27,
     "metadata": {},
     "output_type": "execute_result"
    }
   ],
   "source": [
    "1996%4"
   ]
  },
  {
   "cell_type": "code",
   "execution_count": 32,
   "metadata": {},
   "outputs": [
    {
     "name": "stdout",
     "output_type": "stream",
     "text": [
      "Enter a Char:A\n",
      "ch is vowel\n"
     ]
    }
   ],
   "source": [
    "# To check wheather given character is vowel or consonant?\n",
    "n = input(\"Enter a Char:\")\n",
    "if(n == 'a' or n == 'e' or n == 'i' or n =='o' or n =='u' or n == 'A' or n == 'E' or n == 'I' or n =='O' or n =='U'):\n",
    "    print(\"ch is vowel\")\n",
    "else:\n",
    "    print(\"ch is consonant\")"
   ]
  },
  {
   "cell_type": "code",
   "execution_count": 38,
   "metadata": {},
   "outputs": [
    {
     "name": "stdout",
     "output_type": "stream",
     "text": [
      "O\n",
      "ch is vowel\n"
     ]
    }
   ],
   "source": [
    "li = ['a','e','i','o','u','A','E','I','O','U']\n",
    "ch = input()\n",
    "if ch in li:\n",
    "    print(\"ch is vowel\")\n",
    "else:\n",
    "    print(\"ch is consonant\")"
   ]
  },
  {
   "cell_type": "code",
   "execution_count": 40,
   "metadata": {},
   "outputs": [
    {
     "name": "stdout",
     "output_type": "stream",
     "text": [
      "y\n",
      "False\n"
     ]
    }
   ],
   "source": [
    "li = ['a','e','i','o','u','A','E','I','O','U']\n",
    "def isVowel(ch):\n",
    "    if ch in li:\n",
    "        return True\n",
    "    else:\n",
    "        return False\n",
    "ch = input()\n",
    "print(isVowel(ch))"
   ]
  },
  {
   "cell_type": "code",
   "execution_count": null,
   "metadata": {},
   "outputs": [],
   "source": []
  }
 ],
 "metadata": {
  "kernelspec": {
   "display_name": "Python 3",
   "language": "python",
   "name": "python3"
  },
  "language_info": {
   "codemirror_mode": {
    "name": "ipython",
    "version": 3
   },
   "file_extension": ".py",
   "mimetype": "text/x-python",
   "name": "python",
   "nbconvert_exporter": "python",
   "pygments_lexer": "ipython3",
   "version": "3.7.4"
  }
 },
 "nbformat": 4,
 "nbformat_minor": 4
}
