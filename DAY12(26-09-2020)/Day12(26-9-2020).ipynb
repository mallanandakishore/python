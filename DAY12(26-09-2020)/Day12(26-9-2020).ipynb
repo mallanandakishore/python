{
 "cells": [
  {
   "cell_type": "code",
   "execution_count": 2,
   "metadata": {
    "colab": {
     "base_uri": "https://localhost:8080/",
     "height": 34
    },
    "executionInfo": {
     "elapsed": 2057,
     "status": "ok",
     "timestamp": 1601098496234,
     "user": {
      "displayName": "Kalyan chakravarthi P",
      "photoUrl": "",
      "userId": "13155644528247854005"
     },
     "user_tz": -330
    },
    "id": "PJBBDjRm4KFc",
    "outputId": "2a67edb6-b097-4ca7-a88c-9694fe993bb2"
   },
   "outputs": [
    {
     "name": "stdout",
     "output_type": "stream",
     "text": [
      "Welcome to the Collections concept in python\n"
     ]
    }
   ],
   "source": [
    "print(\"Welcome to the Collections concept in python\")"
   ]
  },
  {
   "cell_type": "code",
   "execution_count": 5,
   "metadata": {
    "executionInfo": {
     "elapsed": 1578,
     "status": "ok",
     "timestamp": 1601098667813,
     "user": {
      "displayName": "Kalyan chakravarthi P",
      "photoUrl": "",
      "userId": "13155644528247854005"
     },
     "user_tz": -330
    },
    "id": "qmNqxpr64ZeU"
   },
   "outputs": [],
   "source": [
    "# Collections in python \n",
    "    - List\n",
    "    - Tuple\n",
    "    - Set\n",
    "    - Dictionary"
   ]
  },
  {
   "cell_type": "code",
   "execution_count": 6,
   "metadata": {
    "executionInfo": {
     "elapsed": 2205,
     "status": "ok",
     "timestamp": 1601098999696,
     "user": {
      "displayName": "Kalyan chakravarthi P",
      "photoUrl": "",
      "userId": "13155644528247854005"
     },
     "user_tz": -330
    },
    "id": "p0nb5U_36PWb"
   },
   "outputs": [],
   "source": [
    "# List \n",
    " - List data can be represented by using [] or list()\n",
    " - List allow duplicate value\n",
    " - We can manupulate data by using indexing and Slicing\n",
    " - Oredered format values are stored in a list\n",
    "\n"
   ]
  },
  {
   "cell_type": "code",
   "execution_count": 9,
   "metadata": {
    "colab": {
     "base_uri": "https://localhost:8080/",
     "height": 34
    },
    "executionInfo": {
     "elapsed": 1633,
     "status": "ok",
     "timestamp": 1601099089712,
     "user": {
      "displayName": "Kalyan chakravarthi P",
      "photoUrl": "",
      "userId": "13155644528247854005"
     },
     "user_tz": -330
    },
    "id": "P_Vsszm177do",
    "outputId": "fa1616d8-3cf2-4358-9220-4c4889d40a31"
   },
   "outputs": [
    {
     "data": {
      "text/plain": [
       "[1, 2, 3]"
      ]
     },
     "execution_count": 9,
     "metadata": {
      "tags": []
     },
     "output_type": "execute_result"
    }
   ],
   "source": [
    "List1=[1,2,3]\n",
    "List1"
   ]
  },
  {
   "cell_type": "code",
   "execution_count": 1,
   "metadata": {
    "colab": {
     "base_uri": "https://localhost:8080/",
     "height": 34
    },
    "executionInfo": {
     "elapsed": 2028,
     "status": "ok",
     "timestamp": 1601099099720,
     "user": {
      "displayName": "Kalyan chakravarthi P",
      "photoUrl": "",
      "userId": "13155644528247854005"
     },
     "user_tz": -330
    },
    "id": "pR-WkUtb7_z9",
    "outputId": "46927478-d104-4690-893a-9fdb1c558bdf"
   },
   "outputs": [
    {
     "data": {
      "text/plain": [
       "['nanda', 'satya', 'narendra']"
      ]
     },
     "execution_count": 1,
     "metadata": {},
     "output_type": "execute_result"
    }
   ],
   "source": [
    "List2=[\"nanda\",\"satya\",\"narendra\"]\n",
    "List2"
   ]
  },
  {
   "cell_type": "code",
   "execution_count": 2,
   "metadata": {
    "colab": {
     "base_uri": "https://localhost:8080/",
     "height": 34
    },
    "executionInfo": {
     "elapsed": 919,
     "status": "ok",
     "timestamp": 1601099173944,
     "user": {
      "displayName": "Kalyan chakravarthi P",
      "photoUrl": "",
      "userId": "13155644528247854005"
     },
     "user_tz": -330
    },
    "id": "OfJ1zP3w8Unz",
    "outputId": "b7847537-b7f2-4342-f349-f1e3f4e3d3d3"
   },
   "outputs": [
    {
     "name": "stdout",
     "output_type": "stream",
     "text": [
      "['kishore', 1, 'ajay', 2, 'vamsi', 3]\n"
     ]
    }
   ],
   "source": [
    "list3=[\"kishore\",1,\"ajay\",2,\"vamsi\",3]\n",
    "print(list3)"
   ]
  },
  {
   "cell_type": "code",
   "execution_count": 3,
   "metadata": {
    "colab": {
     "base_uri": "https://localhost:8080/",
     "height": 35
    },
    "executionInfo": {
     "elapsed": 1474,
     "status": "ok",
     "timestamp": 1601099276035,
     "user": {
      "displayName": "Kalyan chakravarthi P",
      "photoUrl": "",
      "userId": "13155644528247854005"
     },
     "user_tz": -330
    },
    "id": "NrwvuXGX8ofy",
    "outputId": "495f6ed3-85e0-41e0-9ba6-225f18ab8628"
   },
   "outputs": [
    {
     "data": {
      "text/plain": [
       "'ajay'"
      ]
     },
     "execution_count": 3,
     "metadata": {},
     "output_type": "execute_result"
    }
   ],
   "source": [
    "# Indexing \n",
    "list3[2]"
   ]
  },
  {
   "cell_type": "code",
   "execution_count": 4,
   "metadata": {
    "colab": {
     "base_uri": "https://localhost:8080/",
     "height": 35
    },
    "executionInfo": {
     "elapsed": 1432,
     "status": "ok",
     "timestamp": 1601099325825,
     "user": {
      "displayName": "Kalyan chakravarthi P",
      "photoUrl": "",
      "userId": "13155644528247854005"
     },
     "user_tz": -330
    },
    "id": "dLwI6HuX9Bj7",
    "outputId": "ed467f17-1d5f-450e-b65c-54f7b5c369a6"
   },
   "outputs": [
    {
     "data": {
      "text/plain": [
       "'vamsi'"
      ]
     },
     "execution_count": 4,
     "metadata": {},
     "output_type": "execute_result"
    }
   ],
   "source": [
    "list3[4]"
   ]
  },
  {
   "cell_type": "code",
   "execution_count": 5,
   "metadata": {
    "colab": {
     "base_uri": "https://localhost:8080/",
     "height": 34
    },
    "executionInfo": {
     "elapsed": 1351,
     "status": "ok",
     "timestamp": 1601099362961,
     "user": {
      "displayName": "Kalyan chakravarthi P",
      "photoUrl": "",
      "userId": "13155644528247854005"
     },
     "user_tz": -330
    },
    "id": "yq2LwJl39Nun",
    "outputId": "77d35acc-261b-4657-8a19-fbf66f8f5168"
   },
   "outputs": [
    {
     "data": {
      "text/plain": [
       "3"
      ]
     },
     "execution_count": 5,
     "metadata": {},
     "output_type": "execute_result"
    }
   ],
   "source": [
    "list3[5]"
   ]
  },
  {
   "cell_type": "code",
   "execution_count": 6,
   "metadata": {
    "colab": {
     "base_uri": "https://localhost:8080/",
     "height": 34
    },
    "executionInfo": {
     "elapsed": 1290,
     "status": "ok",
     "timestamp": 1601099462570,
     "user": {
      "displayName": "Kalyan chakravarthi P",
      "photoUrl": "",
      "userId": "13155644528247854005"
     },
     "user_tz": -330
    },
    "id": "7P6RPdVf9W0S",
    "outputId": "e708fa8e-be55-4541-b93a-7e6b35baa978"
   },
   "outputs": [
    {
     "data": {
      "text/plain": [
       "3"
      ]
     },
     "execution_count": 6,
     "metadata": {},
     "output_type": "execute_result"
    }
   ],
   "source": [
    "list3[-1]"
   ]
  },
  {
   "cell_type": "code",
   "execution_count": 7,
   "metadata": {
    "colab": {
     "base_uri": "https://localhost:8080/",
     "height": 35
    },
    "executionInfo": {
     "elapsed": 2459,
     "status": "ok",
     "timestamp": 1601099514497,
     "user": {
      "displayName": "Kalyan chakravarthi P",
      "photoUrl": "",
      "userId": "13155644528247854005"
     },
     "user_tz": -330
    },
    "id": "FUgGXk2P9vJT",
    "outputId": "c95a967f-ee0f-4e09-eab3-2ff905330b1b"
   },
   "outputs": [
    {
     "data": {
      "text/plain": [
       "'ajay'"
      ]
     },
     "execution_count": 7,
     "metadata": {},
     "output_type": "execute_result"
    }
   ],
   "source": [
    "list3[-4]"
   ]
  },
  {
   "cell_type": "code",
   "execution_count": 8,
   "metadata": {
    "colab": {
     "base_uri": "https://localhost:8080/",
     "height": 34
    },
    "executionInfo": {
     "elapsed": 1954,
     "status": "ok",
     "timestamp": 1601099711289,
     "user": {
      "displayName": "Kalyan chakravarthi P",
      "photoUrl": "",
      "userId": "13155644528247854005"
     },
     "user_tz": -330
    },
    "id": "f59EhzAj97ep",
    "outputId": "45b6c37f-6667-4766-8953-15fdf29eb68b"
   },
   "outputs": [
    {
     "data": {
      "text/plain": [
       "[3, 'vamsi', 2, 'ajay', 1, 'kishore']"
      ]
     },
     "execution_count": 8,
     "metadata": {},
     "output_type": "execute_result"
    }
   ],
   "source": [
    "list3[::-1]"
   ]
  },
  {
   "cell_type": "code",
   "execution_count": 9,
   "metadata": {
    "colab": {
     "base_uri": "https://localhost:8080/",
     "height": 34
    },
    "executionInfo": {
     "elapsed": 1573,
     "status": "ok",
     "timestamp": 1601099782442,
     "user": {
      "displayName": "Kalyan chakravarthi P",
      "photoUrl": "",
      "userId": "13155644528247854005"
     },
     "user_tz": -330
    },
    "id": "Kk4vZCJR-rtY",
    "outputId": "1dffd7a8-4811-44d3-f1c3-f75cbd2f493b"
   },
   "outputs": [
    {
     "data": {
      "text/plain": [
       "['kishore', 1, 'ajay', 2, 'vamsi', 3]"
      ]
     },
     "execution_count": 9,
     "metadata": {},
     "output_type": "execute_result"
    }
   ],
   "source": [
    "list3"
   ]
  },
  {
   "cell_type": "code",
   "execution_count": 10,
   "metadata": {
    "colab": {
     "base_uri": "https://localhost:8080/",
     "height": 34
    },
    "executionInfo": {
     "elapsed": 2190,
     "status": "ok",
     "timestamp": 1601099873245,
     "user": {
      "displayName": "Kalyan chakravarthi P",
      "photoUrl": "",
      "userId": "13155644528247854005"
     },
     "user_tz": -330
    },
    "id": "gKDvVnp2-9J3",
    "outputId": "c018d441-79a5-43b5-feb8-4c1afe3aae17"
   },
   "outputs": [
    {
     "data": {
      "text/plain": [
       "['ajay', 2, 'vamsi', 3]"
      ]
     },
     "execution_count": 10,
     "metadata": {},
     "output_type": "execute_result"
    }
   ],
   "source": [
    "list3[2:]"
   ]
  },
  {
   "cell_type": "code",
   "execution_count": 11,
   "metadata": {
    "colab": {
     "base_uri": "https://localhost:8080/",
     "height": 34
    },
    "executionInfo": {
     "elapsed": 1569,
     "status": "ok",
     "timestamp": 1601099998833,
     "user": {
      "displayName": "Kalyan chakravarthi P",
      "photoUrl": "",
      "userId": "13155644528247854005"
     },
     "user_tz": -330
    },
    "id": "yGn2-FiW_INr",
    "outputId": "cdebf245-574a-4f60-9f26-cc8e0c646ab3"
   },
   "outputs": [
    {
     "data": {
      "text/plain": [
       "['kishore', 1, 'ajay', 2]"
      ]
     },
     "execution_count": 11,
     "metadata": {},
     "output_type": "execute_result"
    }
   ],
   "source": [
    "list3[0:4]"
   ]
  },
  {
   "cell_type": "code",
   "execution_count": 12,
   "metadata": {
    "colab": {
     "base_uri": "https://localhost:8080/",
     "height": 34
    },
    "executionInfo": {
     "elapsed": 1500,
     "status": "ok",
     "timestamp": 1601100019966,
     "user": {
      "displayName": "Kalyan chakravarthi P",
      "photoUrl": "",
      "userId": "13155644528247854005"
     },
     "user_tz": -330
    },
    "id": "dZ8z1A07_tgA",
    "outputId": "65025ed3-c0ba-4b32-9edc-ac0ee5e4c853"
   },
   "outputs": [
    {
     "data": {
      "text/plain": [
       "['kishore', 1, 'ajay', 2]"
      ]
     },
     "execution_count": 12,
     "metadata": {},
     "output_type": "execute_result"
    }
   ],
   "source": [
    "list3[:-2]"
   ]
  },
  {
   "cell_type": "code",
   "execution_count": 13,
   "metadata": {
    "colab": {
     "base_uri": "https://localhost:8080/",
     "height": 34
    },
    "executionInfo": {
     "elapsed": 2345,
     "status": "ok",
     "timestamp": 1601100164104,
     "user": {
      "displayName": "Kalyan chakravarthi P",
      "photoUrl": "",
      "userId": "13155644528247854005"
     },
     "user_tz": -330
    },
    "id": "ojN7nz0C_3Ls",
    "outputId": "fd9f83dc-038f-4260-d048-c38a8b5db224"
   },
   "outputs": [
    {
     "data": {
      "text/plain": [
       "[1, 'ajay', 2]"
      ]
     },
     "execution_count": 13,
     "metadata": {},
     "output_type": "execute_result"
    }
   ],
   "source": [
    "list3[1:4]"
   ]
  },
  {
   "cell_type": "code",
   "execution_count": 14,
   "metadata": {
    "colab": {
     "base_uri": "https://localhost:8080/",
     "height": 34
    },
    "executionInfo": {
     "elapsed": 1693,
     "status": "ok",
     "timestamp": 1601100352874,
     "user": {
      "displayName": "Kalyan chakravarthi P",
      "photoUrl": "",
      "userId": "13155644528247854005"
     },
     "user_tz": -330
    },
    "id": "uFCH7l5eAQKV",
    "outputId": "a79443e8-4109-49f8-88b3-836695f40595"
   },
   "outputs": [
    {
     "data": {
      "text/plain": [
       "['vamsi', 2, 'ajay']"
      ]
     },
     "execution_count": 14,
     "metadata": {},
     "output_type": "execute_result"
    }
   ],
   "source": [
    "list3[-2:1:-1]"
   ]
  },
  {
   "cell_type": "code",
   "execution_count": 15,
   "metadata": {
    "colab": {
     "base_uri": "https://localhost:8080/",
     "height": 34
    },
    "executionInfo": {
     "elapsed": 1715,
     "status": "ok",
     "timestamp": 1601100495578,
     "user": {
      "displayName": "Kalyan chakravarthi P",
      "photoUrl": "",
      "userId": "13155644528247854005"
     },
     "user_tz": -330
    },
    "id": "G5SzemTpAwtB",
    "outputId": "39e7881d-6e50-4bf5-d49c-642565c6d792"
   },
   "outputs": [
    {
     "data": {
      "text/plain": [
       "['ajay', 1]"
      ]
     },
     "execution_count": 15,
     "metadata": {},
     "output_type": "execute_result"
    }
   ],
   "source": [
    "list3[2:0:-1]"
   ]
  },
  {
   "cell_type": "code",
   "execution_count": 16,
   "metadata": {
    "colab": {
     "base_uri": "https://localhost:8080/",
     "height": 34
    },
    "executionInfo": {
     "elapsed": 2128,
     "status": "ok",
     "timestamp": 1601100423286,
     "user": {
      "displayName": "Kalyan chakravarthi P",
      "photoUrl": "",
      "userId": "13155644528247854005"
     },
     "user_tz": -330
    },
    "id": "7zqcZwV-BOO0",
    "outputId": "5f0bdfa4-c331-43d4-a033-68e18af3099f"
   },
   "outputs": [
    {
     "data": {
      "text/plain": [
       "['vamsi', 1]"
      ]
     },
     "execution_count": 16,
     "metadata": {},
     "output_type": "execute_result"
    }
   ],
   "source": [
    "list3[4::-3]"
   ]
  },
  {
   "cell_type": "code",
   "execution_count": 17,
   "metadata": {
    "colab": {
     "base_uri": "https://localhost:8080/",
     "height": 34
    },
    "executionInfo": {
     "elapsed": 1359,
     "status": "ok",
     "timestamp": 1601100455178,
     "user": {
      "displayName": "Kalyan chakravarthi P",
      "photoUrl": "",
      "userId": "13155644528247854005"
     },
     "user_tz": -330
    },
    "id": "9JVwsHpyBWdr",
    "outputId": "80429243-e23e-4ffc-e91b-b568b0f4990b"
   },
   "outputs": [
    {
     "data": {
      "text/plain": [
       "[1, 'ajay']"
      ]
     },
     "execution_count": 17,
     "metadata": {},
     "output_type": "execute_result"
    }
   ],
   "source": [
    "demo=list3[1:3]\n",
    "demo"
   ]
  },
  {
   "cell_type": "code",
   "execution_count": 18,
   "metadata": {
    "colab": {
     "base_uri": "https://localhost:8080/",
     "height": 34
    },
    "executionInfo": {
     "elapsed": 2438,
     "status": "ok",
     "timestamp": 1601100465037,
     "user": {
      "displayName": "Kalyan chakravarthi P",
      "photoUrl": "",
      "userId": "13155644528247854005"
     },
     "user_tz": -330
    },
    "id": "jMSsYS0XBhZ2",
    "outputId": "ba101079-3348-4d78-d59c-f34db27a2b49"
   },
   "outputs": [
    {
     "data": {
      "text/plain": [
       "['ajay', 1]"
      ]
     },
     "execution_count": 18,
     "metadata": {},
     "output_type": "execute_result"
    }
   ],
   "source": [
    "demo[::-1]"
   ]
  },
  {
   "cell_type": "code",
   "execution_count": 19,
   "metadata": {
    "colab": {
     "base_uri": "https://localhost:8080/",
     "height": 34
    },
    "executionInfo": {
     "elapsed": 1393,
     "status": "ok",
     "timestamp": 1601100507191,
     "user": {
      "displayName": "Kalyan chakravarthi P",
      "photoUrl": "",
      "userId": "13155644528247854005"
     },
     "user_tz": -330
    },
    "id": "HEATCmzcBjkb",
    "outputId": "d772aa2e-83b7-4fc7-98e4-5d68e0f7a9da"
   },
   "outputs": [
    {
     "data": {
      "text/plain": [
       "['kishore', 1, 'ajay', 2, 'vamsi', 3]"
      ]
     },
     "execution_count": 19,
     "metadata": {},
     "output_type": "execute_result"
    }
   ],
   "source": [
    "list3"
   ]
  },
  {
   "cell_type": "code",
   "execution_count": 20,
   "metadata": {
    "colab": {
     "base_uri": "https://localhost:8080/",
     "height": 34
    },
    "executionInfo": {
     "elapsed": 2151,
     "status": "ok",
     "timestamp": 1601100595377,
     "user": {
      "displayName": "Kalyan chakravarthi P",
      "photoUrl": "",
      "userId": "13155644528247854005"
     },
     "user_tz": -330
    },
    "id": "jCUUfgOqBuJE",
    "outputId": "5e420c0b-8099-4fd9-8255-e93244362391"
   },
   "outputs": [
    {
     "data": {
      "text/plain": [
       "['kishore', 1, 'ajay', 2, 'vamsi', 3, 'gnani']"
      ]
     },
     "execution_count": 20,
     "metadata": {},
     "output_type": "execute_result"
    }
   ],
   "source": [
    "list3.append(\"gnani\")\n",
    "list3"
   ]
  },
  {
   "cell_type": "code",
   "execution_count": 38,
   "metadata": {
    "colab": {
     "base_uri": "https://localhost:8080/",
     "height": 34
    },
    "executionInfo": {
     "elapsed": 1111,
     "status": "ok",
     "timestamp": 1601101866577,
     "user": {
      "displayName": "Kalyan chakravarthi P",
      "photoUrl": "",
      "userId": "13155644528247854005"
     },
     "user_tz": -330
    },
    "id": "YrQEYnICB__r",
    "outputId": "ea56cf95-73e9-4995-8b82-2ebc6fda8073"
   },
   "outputs": [
    {
     "data": {
      "text/plain": [
       "[1, 2, 3, ['a', 'b', 'c']]"
      ]
     },
     "execution_count": 38,
     "metadata": {},
     "output_type": "execute_result"
    }
   ],
   "source": [
    "list5=[1,2,3]\n",
    "list6=[\"a\",\"b\",\"c\"]\n",
    "list5.append(list6)\n",
    "list5"
   ]
  },
  {
   "cell_type": "code",
   "execution_count": 39,
   "metadata": {
    "colab": {
     "base_uri": "https://localhost:8080/",
     "height": 34
    },
    "executionInfo": {
     "elapsed": 1347,
     "status": "ok",
     "timestamp": 1601101977474,
     "user": {
      "displayName": "Kalyan chakravarthi P",
      "photoUrl": "",
      "userId": "13155644528247854005"
     },
     "user_tz": -330
    },
    "id": "x2mvyy2UCTwE",
    "outputId": "c2fc05e1-f40a-4b55-a92e-663a5474a073"
   },
   "outputs": [
    {
     "data": {
      "text/plain": [
       "[1, 2, 3, 'a', 'b', 'c']"
      ]
     },
     "execution_count": 39,
     "metadata": {},
     "output_type": "execute_result"
    }
   ],
   "source": [
    "list5=[1,2,3]\n",
    "list6=[\"a\",\"b\",\"c\"]\n",
    "list5.extend(list6)\n",
    "list5"
   ]
  },
  {
   "cell_type": "code",
   "execution_count": null,
   "metadata": {
    "executionInfo": {
     "elapsed": 1592,
     "status": "ok",
     "timestamp": 1601101436839,
     "user": {
      "displayName": "Kalyan chakravarthi P",
      "photoUrl": "",
      "userId": "13155644528247854005"
     },
     "user_tz": -330
    },
    "id": "UYfT4hBzCnBn"
   },
   "outputs": [],
   "source": []
  },
  {
   "cell_type": "code",
   "execution_count": 40,
   "metadata": {
    "colab": {
     "base_uri": "https://localhost:8080/",
     "height": 34
    },
    "executionInfo": {
     "elapsed": 1765,
     "status": "ok",
     "timestamp": 1601101537370,
     "user": {
      "displayName": "Kalyan chakravarthi P",
      "photoUrl": "",
      "userId": "13155644528247854005"
     },
     "user_tz": -330
    },
    "id": "SJdmRW7fDrrv",
    "outputId": "d3c5f07e-ec52-4d7e-bada-8d8c444a7f18"
   },
   "outputs": [
    {
     "data": {
      "text/plain": [
       "[1, 2, 3, 'a', 'b', 'c']"
      ]
     },
     "execution_count": 40,
     "metadata": {},
     "output_type": "execute_result"
    }
   ],
   "source": [
    "list5"
   ]
  },
  {
   "cell_type": "code",
   "execution_count": 41,
   "metadata": {
    "colab": {
     "base_uri": "https://localhost:8080/",
     "height": 34
    },
    "executionInfo": {
     "elapsed": 1556,
     "status": "ok",
     "timestamp": 1601101582871,
     "user": {
      "displayName": "Kalyan chakravarthi P",
      "photoUrl": "",
      "userId": "13155644528247854005"
     },
     "user_tz": -330
    },
    "id": "ukaB0OBCDs__",
    "outputId": "a6e90fde-b4b1-4a84-b080-1094f754ce2f"
   },
   "outputs": [
    {
     "data": {
      "text/plain": [
       "[1, 2, 3, 'a', 'b']"
      ]
     },
     "execution_count": 41,
     "metadata": {},
     "output_type": "execute_result"
    }
   ],
   "source": [
    "list5.remove(\"c\")\n",
    "list5"
   ]
  },
  {
   "cell_type": "code",
   "execution_count": 56,
   "metadata": {
    "colab": {
     "base_uri": "https://localhost:8080/",
     "height": 34
    },
    "executionInfo": {
     "elapsed": 1353,
     "status": "ok",
     "timestamp": 1601101635485,
     "user": {
      "displayName": "Kalyan chakravarthi P",
      "photoUrl": "",
      "userId": "13155644528247854005"
     },
     "user_tz": -330
    },
    "id": "veFUV38-EhH2",
    "outputId": "881f9bf5-4077-4e4a-d8bb-4c004ad289bc"
   },
   "outputs": [
    {
     "ename": "NameError",
     "evalue": "name 'list5' is not defined",
     "output_type": "error",
     "traceback": [
      "\u001b[1;31m---------------------------------------------------------------------------\u001b[0m",
      "\u001b[1;31mNameError\u001b[0m                                 Traceback (most recent call last)",
      "\u001b[1;32m<ipython-input-56-18ff81437bc2>\u001b[0m in \u001b[0;36m<module>\u001b[1;34m\u001b[0m\n\u001b[1;32m----> 1\u001b[1;33m \u001b[0mlist5\u001b[0m\u001b[1;33m.\u001b[0m\u001b[0mpop\u001b[0m\u001b[1;33m(\u001b[0m\u001b[1;33m)\u001b[0m\u001b[1;33m\u001b[0m\u001b[1;33m\u001b[0m\u001b[0m\n\u001b[0m\u001b[0;32m      2\u001b[0m \u001b[0mlist5\u001b[0m\u001b[1;33m\u001b[0m\u001b[1;33m\u001b[0m\u001b[0m\n",
      "\u001b[1;31mNameError\u001b[0m: name 'list5' is not defined"
     ]
    }
   ],
   "source": [
    "list5.pop()\n",
    "list5"
   ]
  },
  {
   "cell_type": "code",
   "execution_count": 57,
   "metadata": {
    "colab": {
     "base_uri": "https://localhost:8080/",
     "height": 34
    },
    "executionInfo": {
     "elapsed": 1825,
     "status": "ok",
     "timestamp": 1601101881175,
     "user": {
      "displayName": "Kalyan chakravarthi P",
      "photoUrl": "",
      "userId": "13155644528247854005"
     },
     "user_tz": -330
    },
    "id": "X6b1Ui4PGBgw",
    "outputId": "981acdbc-41af-408a-dbec-8269304b69c5"
   },
   "outputs": [
    {
     "ename": "NameError",
     "evalue": "name 'list5' is not defined",
     "output_type": "error",
     "traceback": [
      "\u001b[1;31m---------------------------------------------------------------------------\u001b[0m",
      "\u001b[1;31mNameError\u001b[0m                                 Traceback (most recent call last)",
      "\u001b[1;32m<ipython-input-57-75c4c9018bdd>\u001b[0m in \u001b[0;36m<module>\u001b[1;34m\u001b[0m\n\u001b[1;32m----> 1\u001b[1;33m \u001b[0mlist5\u001b[0m\u001b[1;33m.\u001b[0m\u001b[0mpop\u001b[0m\u001b[1;33m(\u001b[0m\u001b[1;36m2\u001b[0m\u001b[1;33m)\u001b[0m\u001b[1;33m\u001b[0m\u001b[1;33m\u001b[0m\u001b[0m\n\u001b[0m\u001b[0;32m      2\u001b[0m \u001b[0mlist5\u001b[0m\u001b[1;33m\u001b[0m\u001b[1;33m\u001b[0m\u001b[0m\n",
      "\u001b[1;31mNameError\u001b[0m: name 'list5' is not defined"
     ]
    }
   ],
   "source": [
    "list5.pop(2)\n",
    "list5"
   ]
  },
  {
   "cell_type": "code",
   "execution_count": 58,
   "metadata": {
    "colab": {
     "base_uri": "https://localhost:8080/",
     "height": 34
    },
    "executionInfo": {
     "elapsed": 1694,
     "status": "ok",
     "timestamp": 1601101797263,
     "user": {
      "displayName": "Kalyan chakravarthi P",
      "photoUrl": "",
      "userId": "13155644528247854005"
     },
     "user_tz": -330
    },
    "id": "pCO6VSfCGMbE",
    "outputId": "98756c79-cdcd-4aab-fd7c-df7a73511ad7"
   },
   "outputs": [
    {
     "ename": "NameError",
     "evalue": "name 'list5' is not defined",
     "output_type": "error",
     "traceback": [
      "\u001b[1;31m---------------------------------------------------------------------------\u001b[0m",
      "\u001b[1;31mNameError\u001b[0m                                 Traceback (most recent call last)",
      "\u001b[1;32m<ipython-input-58-18c04b7e08f1>\u001b[0m in \u001b[0;36m<module>\u001b[1;34m\u001b[0m\n\u001b[1;32m----> 1\u001b[1;33m \u001b[0mlist5\u001b[0m\u001b[1;33m.\u001b[0m\u001b[0mclear\u001b[0m\u001b[1;33m(\u001b[0m\u001b[1;33m)\u001b[0m\u001b[1;33m\u001b[0m\u001b[1;33m\u001b[0m\u001b[0m\n\u001b[0m\u001b[0;32m      2\u001b[0m \u001b[0mlist5\u001b[0m\u001b[1;33m\u001b[0m\u001b[1;33m\u001b[0m\u001b[0m\n",
      "\u001b[1;31mNameError\u001b[0m: name 'list5' is not defined"
     ]
    }
   ],
   "source": [
    "list5.clear()\n",
    "list5"
   ]
  },
  {
   "cell_type": "code",
   "execution_count": 59,
   "metadata": {
    "colab": {
     "base_uri": "https://localhost:8080/",
     "height": 202
    },
    "executionInfo": {
     "elapsed": 1354,
     "status": "error",
     "timestamp": 1601101851350,
     "user": {
      "displayName": "Kalyan chakravarthi P",
      "photoUrl": "",
      "userId": "13155644528247854005"
     },
     "user_tz": -330
    },
    "id": "cTC8sGf-GcL2",
    "outputId": "da51d740-875a-47d3-f79f-58d581bc67e9"
   },
   "outputs": [
    {
     "ename": "NameError",
     "evalue": "name 'list5' is not defined",
     "output_type": "error",
     "traceback": [
      "\u001b[1;31m---------------------------------------------------------------------------\u001b[0m",
      "\u001b[1;31mNameError\u001b[0m                                 Traceback (most recent call last)",
      "\u001b[1;32m<ipython-input-59-6b1609890692>\u001b[0m in \u001b[0;36m<module>\u001b[1;34m\u001b[0m\n\u001b[1;32m----> 1\u001b[1;33m \u001b[1;32mdel\u001b[0m \u001b[0mlist5\u001b[0m\u001b[1;33m\u001b[0m\u001b[1;33m\u001b[0m\u001b[0m\n\u001b[0m\u001b[0;32m      2\u001b[0m \u001b[1;33m\u001b[0m\u001b[0m\n\u001b[0;32m      3\u001b[0m \u001b[0mlist5\u001b[0m\u001b[1;33m\u001b[0m\u001b[1;33m\u001b[0m\u001b[0m\n",
      "\u001b[1;31mNameError\u001b[0m: name 'list5' is not defined"
     ]
    }
   ],
   "source": [
    "del list5\n",
    "\n",
    "list5"
   ]
  },
  {
   "cell_type": "code",
   "execution_count": 60,
   "metadata": {
    "colab": {
     "base_uri": "https://localhost:8080/",
     "height": 34
    },
    "executionInfo": {
     "elapsed": 2295,
     "status": "ok",
     "timestamp": 1601101987408,
     "user": {
      "displayName": "Kalyan chakravarthi P",
      "photoUrl": "",
      "userId": "13155644528247854005"
     },
     "user_tz": -330
    },
    "id": "6SnGXxFhG2Od",
    "outputId": "c24cd86f-dd77-4df2-8a1b-c2119b11aff5"
   },
   "outputs": [
    {
     "ename": "NameError",
     "evalue": "name 'list5' is not defined",
     "output_type": "error",
     "traceback": [
      "\u001b[1;31m---------------------------------------------------------------------------\u001b[0m",
      "\u001b[1;31mNameError\u001b[0m                                 Traceback (most recent call last)",
      "\u001b[1;32m<ipython-input-60-ac5f34951054>\u001b[0m in \u001b[0;36m<module>\u001b[1;34m\u001b[0m\n\u001b[1;32m----> 1\u001b[1;33m \u001b[0mlist5\u001b[0m\u001b[1;33m.\u001b[0m\u001b[0minsert\u001b[0m\u001b[1;33m(\u001b[0m\u001b[1;36m3\u001b[0m\u001b[1;33m,\u001b[0m\u001b[1;34m\"nanda\"\u001b[0m\u001b[1;33m)\u001b[0m\u001b[1;33m\u001b[0m\u001b[1;33m\u001b[0m\u001b[0m\n\u001b[0m\u001b[0;32m      2\u001b[0m \u001b[0mlist5\u001b[0m\u001b[1;33m\u001b[0m\u001b[1;33m\u001b[0m\u001b[0m\n",
      "\u001b[1;31mNameError\u001b[0m: name 'list5' is not defined"
     ]
    }
   ],
   "source": [
    "\n",
    "list5.insert(3,\"nanda\")\n",
    "list5"
   ]
  },
  {
   "cell_type": "code",
   "execution_count": 61,
   "metadata": {
    "colab": {
     "base_uri": "https://localhost:8080/",
     "height": 34
    },
    "executionInfo": {
     "elapsed": 1419,
     "status": "ok",
     "timestamp": 1601102027114,
     "user": {
      "displayName": "Kalyan chakravarthi P",
      "photoUrl": "",
      "userId": "13155644528247854005"
     },
     "user_tz": -330
    },
    "id": "67FMz7rAHMJ2",
    "outputId": "d42dadab-fa2f-4d75-ff1b-d07df26b8e23"
   },
   "outputs": [
    {
     "ename": "NameError",
     "evalue": "name 'list5' is not defined",
     "output_type": "error",
     "traceback": [
      "\u001b[1;31m---------------------------------------------------------------------------\u001b[0m",
      "\u001b[1;31mNameError\u001b[0m                                 Traceback (most recent call last)",
      "\u001b[1;32m<ipython-input-61-8204fc886c1b>\u001b[0m in \u001b[0;36m<module>\u001b[1;34m\u001b[0m\n\u001b[1;32m----> 1\u001b[1;33m \u001b[0mlist7\u001b[0m\u001b[1;33m=\u001b[0m\u001b[0mlist5\u001b[0m \u001b[1;33m+\u001b[0m \u001b[0mlist6\u001b[0m\u001b[1;33m\u001b[0m\u001b[1;33m\u001b[0m\u001b[0m\n\u001b[0m\u001b[0;32m      2\u001b[0m \u001b[0mlist7\u001b[0m\u001b[1;33m\u001b[0m\u001b[1;33m\u001b[0m\u001b[0m\n",
      "\u001b[1;31mNameError\u001b[0m: name 'list5' is not defined"
     ]
    }
   ],
   "source": [
    "list7=list5 + list6\n",
    "list7"
   ]
  },
  {
   "cell_type": "code",
   "execution_count": 62,
   "metadata": {
    "colab": {
     "base_uri": "https://localhost:8080/",
     "height": 140
    },
    "executionInfo": {
     "elapsed": 1519,
     "status": "ok",
     "timestamp": 1601102105862,
     "user": {
      "displayName": "Kalyan chakravarthi P",
      "photoUrl": "",
      "userId": "13155644528247854005"
     },
     "user_tz": -330
    },
    "id": "7gggVRHHHf-A",
    "outputId": "1eb006ad-70e6-4b1a-931c-2d0d038e9d36"
   },
   "outputs": [
    {
     "ename": "NameError",
     "evalue": "name 'list5' is not defined",
     "output_type": "error",
     "traceback": [
      "\u001b[1;31m---------------------------------------------------------------------------\u001b[0m",
      "\u001b[1;31mNameError\u001b[0m                                 Traceback (most recent call last)",
      "\u001b[1;32m<ipython-input-62-839f750b09be>\u001b[0m in \u001b[0;36m<module>\u001b[1;34m\u001b[0m\n\u001b[1;32m----> 1\u001b[1;33m \u001b[1;32mfor\u001b[0m  \u001b[0mdata\u001b[0m \u001b[1;32min\u001b[0m \u001b[0mlist5\u001b[0m\u001b[1;33m:\u001b[0m\u001b[1;33m\u001b[0m\u001b[1;33m\u001b[0m\u001b[0m\n\u001b[0m\u001b[0;32m      2\u001b[0m   \u001b[0mprint\u001b[0m\u001b[1;33m(\u001b[0m\u001b[0mdata\u001b[0m\u001b[1;33m)\u001b[0m\u001b[1;33m\u001b[0m\u001b[1;33m\u001b[0m\u001b[0m\n",
      "\u001b[1;31mNameError\u001b[0m: name 'list5' is not defined"
     ]
    }
   ],
   "source": [
    "for  data in list5:\n",
    "  print(data)"
   ]
  },
  {
   "cell_type": "code",
   "execution_count": 63,
   "metadata": {
    "colab": {
     "base_uri": "https://localhost:8080/",
     "height": 34
    },
    "executionInfo": {
     "elapsed": 1477,
     "status": "ok",
     "timestamp": 1601102382296,
     "user": {
      "displayName": "Kalyan chakravarthi P",
      "photoUrl": "",
      "userId": "13155644528247854005"
     },
     "user_tz": -330
    },
    "id": "X-veHqKWH0Ld",
    "outputId": "3bfc1017-c1d0-4f09-9594-6a78211dea98"
   },
   "outputs": [
    {
     "name": "stdout",
     "output_type": "stream",
     "text": [
      "['Rakesh', 'vamsi', 'narendra', 'nanda', 'kishore', 'ajay']\n"
     ]
    }
   ],
   "source": [
    "employee=[\"nanda\",\"kishore\",\"ajay\"]\n",
    "manager=[\"Rakesh\",\"vamsi\",\"narendra\"]\n",
    "for emp in employee:\n",
    "  manager.append(emp)\n",
    "\n",
    "print(manager)\n",
    "\n"
   ]
  },
  {
   "cell_type": "code",
   "execution_count": 64,
   "metadata": {
    "colab": {
     "base_uri": "https://localhost:8080/",
     "height": 34
    },
    "executionInfo": {
     "elapsed": 1499,
     "status": "ok",
     "timestamp": 1601102453895,
     "user": {
      "displayName": "Kalyan chakravarthi P",
      "photoUrl": "",
      "userId": "13155644528247854005"
     },
     "user_tz": -330
    },
    "id": "kxdvtlMCIqnx",
    "outputId": "7f7acb36-2308-46bf-fb6a-7a67158062cf"
   },
   "outputs": [
    {
     "name": "stdout",
     "output_type": "stream",
     "text": [
      "He is in manager list\n"
     ]
    }
   ],
   "source": [
    "if \"vamsi\" in manager:\n",
    "  print(\"He is in manager list\")\n",
    "else:\n",
    "  print(\"No he is not one of the manager\")"
   ]
  },
  {
   "cell_type": "code",
   "execution_count": 65,
   "metadata": {
    "colab": {
     "base_uri": "https://localhost:8080/",
     "height": 225
    },
    "executionInfo": {
     "elapsed": 2275,
     "status": "ok",
     "timestamp": 1601102517680,
     "user": {
      "displayName": "Kalyan chakravarthi P",
      "photoUrl": "",
      "userId": "13155644528247854005"
     },
     "user_tz": -330
    },
    "id": "Ol5iEzrKJCK3",
    "outputId": "4f86d626-980b-4655-a250-6e28079f807a"
   },
   "outputs": [
    {
     "ename": "NameError",
     "evalue": "name 'list5' is not defined",
     "output_type": "error",
     "traceback": [
      "\u001b[1;31m---------------------------------------------------------------------------\u001b[0m",
      "\u001b[1;31mNameError\u001b[0m                                 Traceback (most recent call last)",
      "\u001b[1;32m<ipython-input-65-afc539e32ace>\u001b[0m in \u001b[0;36m<module>\u001b[1;34m\u001b[0m\n\u001b[1;32m----> 1\u001b[1;33m \u001b[0mlist5\u001b[0m\u001b[1;33m.\u001b[0m\u001b[0mextend\u001b[0m\u001b[1;33m(\u001b[0m\u001b[0mlist6\u001b[0m\u001b[1;33m)\u001b[0m\u001b[1;33m\u001b[0m\u001b[1;33m\u001b[0m\u001b[0m\n\u001b[0m\u001b[0;32m      2\u001b[0m \u001b[0mlist5\u001b[0m\u001b[1;33m\u001b[0m\u001b[1;33m\u001b[0m\u001b[0m\n",
      "\u001b[1;31mNameError\u001b[0m: name 'list5' is not defined"
     ]
    }
   ],
   "source": [
    "list5.extend(list6)\n",
    "list5"
   ]
  },
  {
   "cell_type": "code",
   "execution_count": 66,
   "metadata": {
    "colab": {
     "base_uri": "https://localhost:8080/",
     "height": 34
    },
    "executionInfo": {
     "elapsed": 3066,
     "status": "ok",
     "timestamp": 1601102584998,
     "user": {
      "displayName": "Kalyan chakravarthi P",
      "photoUrl": "",
      "userId": "13155644528247854005"
     },
     "user_tz": -330
    },
    "id": "pkVOSXZjJOl-",
    "outputId": "c8655693-859e-4cc0-f5c7-3f20668d8d7b"
   },
   "outputs": [
    {
     "ename": "NameError",
     "evalue": "name 'list5' is not defined",
     "output_type": "error",
     "traceback": [
      "\u001b[1;31m---------------------------------------------------------------------------\u001b[0m",
      "\u001b[1;31mNameError\u001b[0m                                 Traceback (most recent call last)",
      "\u001b[1;32m<ipython-input-66-590a025138c7>\u001b[0m in \u001b[0;36m<module>\u001b[1;34m\u001b[0m\n\u001b[1;32m----> 1\u001b[1;33m \u001b[0mlist5\u001b[0m\u001b[1;33m.\u001b[0m\u001b[0mcount\u001b[0m\u001b[1;33m(\u001b[0m\u001b[1;36m2\u001b[0m\u001b[1;33m)\u001b[0m\u001b[1;33m\u001b[0m\u001b[1;33m\u001b[0m\u001b[0m\n\u001b[0m",
      "\u001b[1;31mNameError\u001b[0m: name 'list5' is not defined"
     ]
    }
   ],
   "source": [
    "list5.count(2)"
   ]
  },
  {
   "cell_type": "code",
   "execution_count": 50,
   "metadata": {
    "id": "FJv-HeYiJhYl"
   },
   "outputs": [
    {
     "ename": "SyntaxError",
     "evalue": "invalid syntax (<ipython-input-50-a280f5ac8c84>, line 2)",
     "output_type": "error",
     "traceback": [
      "\u001b[1;36m  File \u001b[1;32m\"<ipython-input-50-a280f5ac8c84>\"\u001b[1;36m, line \u001b[1;32m2\u001b[0m\n\u001b[1;33m    Example:\u001b[0m\n\u001b[1;37m             ^\u001b[0m\n\u001b[1;31mSyntaxError\u001b[0m\u001b[1;31m:\u001b[0m invalid syntax\n"
     ]
    }
   ],
   "source": [
    "# In a given list i want to get 2nd highest value\n",
    "Example: \n",
    "i/p:   321321\n",
    "       3213\n",
    "       121\n",
    "       2\n",
    "       3244234\n",
    "       332443 \n",
    "o.p:    332443\n"
   ]
  },
  {
   "cell_type": "code",
   "execution_count": 52,
   "metadata": {
    "colab": {
     "base_uri": "https://localhost:8080/",
     "height": 190
    },
    "executionInfo": {
     "elapsed": 18979,
     "status": "ok",
     "timestamp": 1601104631763,
     "user": {
      "displayName": "Kalyan chakravarthi P",
      "photoUrl": "",
      "userId": "13155644528247854005"
     },
     "user_tz": -330
    },
    "id": "u04Uq5BXMWl3",
    "outputId": "9cecd96b-b4b9-4bb1-a02f-4a4c3db878a0"
   },
   "outputs": [
    {
     "ename": "KeyboardInterrupt",
     "evalue": "Interrupted by user",
     "output_type": "error",
     "traceback": [
      "\u001b[1;31m---------------------------------------------------------------------------\u001b[0m",
      "\u001b[1;31mKeyboardInterrupt\u001b[0m                         Traceback (most recent call last)",
      "\u001b[1;32m<ipython-input-52-bba0082f2d49>\u001b[0m in \u001b[0;36m<module>\u001b[1;34m\u001b[0m\n\u001b[0;32m      1\u001b[0m \u001b[0mmarks\u001b[0m\u001b[1;33m=\u001b[0m\u001b[1;33m[\u001b[0m\u001b[1;33m]\u001b[0m\u001b[1;33m\u001b[0m\u001b[1;33m\u001b[0m\u001b[0m\n\u001b[1;32m----> 2\u001b[1;33m \u001b[0mmarks_size\u001b[0m\u001b[1;33m=\u001b[0m\u001b[0mint\u001b[0m\u001b[1;33m(\u001b[0m\u001b[0minput\u001b[0m\u001b[1;33m(\u001b[0m\u001b[1;34m\"Enter how many marks are there\"\u001b[0m\u001b[1;33m)\u001b[0m\u001b[1;33m)\u001b[0m\u001b[1;33m\u001b[0m\u001b[1;33m\u001b[0m\u001b[0m\n\u001b[0m\u001b[0;32m      3\u001b[0m \u001b[1;32mfor\u001b[0m \u001b[0mdata\u001b[0m \u001b[1;32min\u001b[0m \u001b[0mrange\u001b[0m\u001b[1;33m(\u001b[0m\u001b[0mmarks_size\u001b[0m\u001b[1;33m)\u001b[0m\u001b[1;33m:\u001b[0m\u001b[1;33m\u001b[0m\u001b[1;33m\u001b[0m\u001b[0m\n\u001b[0;32m      4\u001b[0m    \u001b[0mmarks_list\u001b[0m\u001b[1;33m=\u001b[0m\u001b[0mint\u001b[0m\u001b[1;33m(\u001b[0m\u001b[0minput\u001b[0m\u001b[1;33m(\u001b[0m\u001b[1;34m\"Enter Marks\"\u001b[0m\u001b[1;33m)\u001b[0m\u001b[1;33m)\u001b[0m\u001b[1;33m\u001b[0m\u001b[1;33m\u001b[0m\u001b[0m\n\u001b[0;32m      5\u001b[0m    \u001b[0mmarks\u001b[0m\u001b[1;33m.\u001b[0m\u001b[0mappend\u001b[0m\u001b[1;33m(\u001b[0m\u001b[0mmarks_list\u001b[0m\u001b[1;33m)\u001b[0m\u001b[1;33m\u001b[0m\u001b[1;33m\u001b[0m\u001b[0m\n",
      "\u001b[1;32mc:\\users\\malla\\appdata\\local\\programs\\python\\python37\\lib\\site-packages\\ipykernel\\kernelbase.py\u001b[0m in \u001b[0;36mraw_input\u001b[1;34m(self, prompt)\u001b[0m\n\u001b[0;32m    861\u001b[0m             \u001b[0mself\u001b[0m\u001b[1;33m.\u001b[0m\u001b[0m_parent_ident\u001b[0m\u001b[1;33m,\u001b[0m\u001b[1;33m\u001b[0m\u001b[1;33m\u001b[0m\u001b[0m\n\u001b[0;32m    862\u001b[0m             \u001b[0mself\u001b[0m\u001b[1;33m.\u001b[0m\u001b[0m_parent_header\u001b[0m\u001b[1;33m,\u001b[0m\u001b[1;33m\u001b[0m\u001b[1;33m\u001b[0m\u001b[0m\n\u001b[1;32m--> 863\u001b[1;33m             \u001b[0mpassword\u001b[0m\u001b[1;33m=\u001b[0m\u001b[1;32mFalse\u001b[0m\u001b[1;33m,\u001b[0m\u001b[1;33m\u001b[0m\u001b[1;33m\u001b[0m\u001b[0m\n\u001b[0m\u001b[0;32m    864\u001b[0m         )\n\u001b[0;32m    865\u001b[0m \u001b[1;33m\u001b[0m\u001b[0m\n",
      "\u001b[1;32mc:\\users\\malla\\appdata\\local\\programs\\python\\python37\\lib\\site-packages\\ipykernel\\kernelbase.py\u001b[0m in \u001b[0;36m_input_request\u001b[1;34m(self, prompt, ident, parent, password)\u001b[0m\n\u001b[0;32m    902\u001b[0m             \u001b[1;32mexcept\u001b[0m \u001b[0mKeyboardInterrupt\u001b[0m\u001b[1;33m:\u001b[0m\u001b[1;33m\u001b[0m\u001b[1;33m\u001b[0m\u001b[0m\n\u001b[0;32m    903\u001b[0m                 \u001b[1;31m# re-raise KeyboardInterrupt, to truncate traceback\u001b[0m\u001b[1;33m\u001b[0m\u001b[1;33m\u001b[0m\u001b[1;33m\u001b[0m\u001b[0m\n\u001b[1;32m--> 904\u001b[1;33m                 \u001b[1;32mraise\u001b[0m \u001b[0mKeyboardInterrupt\u001b[0m\u001b[1;33m(\u001b[0m\u001b[1;34m\"Interrupted by user\"\u001b[0m\u001b[1;33m)\u001b[0m \u001b[1;32mfrom\u001b[0m \u001b[1;32mNone\u001b[0m\u001b[1;33m\u001b[0m\u001b[1;33m\u001b[0m\u001b[0m\n\u001b[0m\u001b[0;32m    905\u001b[0m             \u001b[1;32mexcept\u001b[0m \u001b[0mException\u001b[0m \u001b[1;32mas\u001b[0m \u001b[0me\u001b[0m\u001b[1;33m:\u001b[0m\u001b[1;33m\u001b[0m\u001b[1;33m\u001b[0m\u001b[0m\n\u001b[0;32m    906\u001b[0m                 \u001b[0mself\u001b[0m\u001b[1;33m.\u001b[0m\u001b[0mlog\u001b[0m\u001b[1;33m.\u001b[0m\u001b[0mwarning\u001b[0m\u001b[1;33m(\u001b[0m\u001b[1;34m\"Invalid Message:\"\u001b[0m\u001b[1;33m,\u001b[0m \u001b[0mexc_info\u001b[0m\u001b[1;33m=\u001b[0m\u001b[1;32mTrue\u001b[0m\u001b[1;33m)\u001b[0m\u001b[1;33m\u001b[0m\u001b[1;33m\u001b[0m\u001b[0m\n",
      "\u001b[1;31mKeyboardInterrupt\u001b[0m: Interrupted by user"
     ]
    }
   ],
   "source": [
    "marks=[]\n",
    "marks_size=int(input(\"Enter how many marks are there\"))\n",
    "for data in range(marks_size):\n",
    "   marks_list=int(input(\"Enter Marks\"))\n",
    "   marks.append(marks_list)\n",
    "\n",
    "print(\"Entered Marks are \", marks)\n",
    "def secondHighest(marks):\n",
    "  marks.sort()\n",
    "  return marks[-2]\n",
    "\n",
    "secondHighest(marks)\n"
   ]
  },
  {
   "cell_type": "code",
   "execution_count": null,
   "metadata": {
    "id": "MJ-K36BzPXBP"
   },
   "outputs": [],
   "source": []
  }
 ],
 "metadata": {
  "colab": {
   "authorship_tag": "ABX9TyN7Px29Le8eMRQj2pT+9GCK",
   "name": "26-9-2020.ipynb",
   "provenance": []
  },
  "kernelspec": {
   "display_name": "Python 3",
   "language": "python",
   "name": "python3"
  },
  "language_info": {
   "codemirror_mode": {
    "name": "ipython",
    "version": 3
   },
   "file_extension": ".py",
   "mimetype": "text/x-python",
   "name": "python",
   "nbconvert_exporter": "python",
   "pygments_lexer": "ipython3",
   "version": "3.7.4"
  }
 },
 "nbformat": 4,
 "nbformat_minor": 1
}
