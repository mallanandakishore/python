{
 "cells": [
  {
   "cell_type": "markdown",
   "metadata": {},
   "source": [
    "### Dictionary\n",
    "- mutable\n",
    "- key,value - pair\n",
    "- key: any data type: int,str,float\n",
    "- values : any data type and any data structure list/tuple/set/str/dict\n",
    "- keys are unique in nature\n",
    "- key,value together called as an item"
   ]
  },
  {
   "cell_type": "code",
   "execution_count": 1,
   "metadata": {},
   "outputs": [
    {
     "name": "stdout",
     "output_type": "stream",
     "text": [
      "{'key': 'value', 'string': 'name', 'integer': 12, 'float': 9.6, 123: 'int'}\n"
     ]
    }
   ],
   "source": [
    "dic = {'key':'value','string':'name','integer':12,'float':9.6,123:\"int\"}\n",
    "print(dic)"
   ]
  },
  {
   "cell_type": "code",
   "execution_count": 2,
   "metadata": {},
   "outputs": [
    {
     "name": "stdout",
     "output_type": "stream",
     "text": [
      "['__class__', '__contains__', '__delattr__', '__delitem__', '__dir__', '__doc__', '__eq__', '__format__', '__ge__', '__getattribute__', '__getitem__', '__gt__', '__hash__', '__init__', '__init_subclass__', '__iter__', '__le__', '__len__', '__lt__', '__ne__', '__new__', '__reduce__', '__reduce_ex__', '__repr__', '__setattr__', '__setitem__', '__sizeof__', '__str__', '__subclasshook__', 'clear', 'copy', 'fromkeys', 'get', 'items', 'keys', 'pop', 'popitem', 'setdefault', 'update', 'values']\n"
     ]
    }
   ],
   "source": [
    "print(dir(dict))"
   ]
  },
  {
   "cell_type": "code",
   "execution_count": 3,
   "metadata": {},
   "outputs": [
    {
     "data": {
      "text/plain": [
       "{'key': 'value', 'string': 'name', 'integer': 12, 'float': 9.6, 123: 'int'}"
      ]
     },
     "execution_count": 3,
     "metadata": {},
     "output_type": "execute_result"
    }
   ],
   "source": [
    "dic1 = dic.copy()\n",
    "dic1"
   ]
  },
  {
   "cell_type": "code",
   "execution_count": 4,
   "metadata": {},
   "outputs": [],
   "source": [
    "dic.clear()"
   ]
  },
  {
   "cell_type": "code",
   "execution_count": 5,
   "metadata": {},
   "outputs": [
    {
     "data": {
      "text/plain": [
       "{}"
      ]
     },
     "execution_count": 5,
     "metadata": {},
     "output_type": "execute_result"
    }
   ],
   "source": [
    "dic"
   ]
  },
  {
   "cell_type": "code",
   "execution_count": 6,
   "metadata": {},
   "outputs": [
    {
     "data": {
      "text/plain": [
       "'name'"
      ]
     },
     "execution_count": 6,
     "metadata": {},
     "output_type": "execute_result"
    }
   ],
   "source": [
    "dic1.get(\"string\")"
   ]
  },
  {
   "cell_type": "code",
   "execution_count": 7,
   "metadata": {},
   "outputs": [
    {
     "data": {
      "text/plain": [
       "'int'"
      ]
     },
     "execution_count": 7,
     "metadata": {},
     "output_type": "execute_result"
    }
   ],
   "source": [
    "dic1.get(123)"
   ]
  },
  {
   "cell_type": "code",
   "execution_count": 8,
   "metadata": {},
   "outputs": [
    {
     "data": {
      "text/plain": [
       "dict_items([('key', 'value'), ('string', 'name'), ('integer', 12), ('float', 9.6), (123, 'int')])"
      ]
     },
     "execution_count": 8,
     "metadata": {},
     "output_type": "execute_result"
    }
   ],
   "source": [
    "dic1.items()"
   ]
  },
  {
   "cell_type": "code",
   "execution_count": 9,
   "metadata": {},
   "outputs": [
    {
     "data": {
      "text/plain": [
       "dict_keys(['key', 'string', 'integer', 'float', 123])"
      ]
     },
     "execution_count": 9,
     "metadata": {},
     "output_type": "execute_result"
    }
   ],
   "source": [
    "dic1.keys()"
   ]
  },
  {
   "cell_type": "code",
   "execution_count": 10,
   "metadata": {},
   "outputs": [
    {
     "data": {
      "text/plain": [
       "dict_values(['value', 'name', 12, 9.6, 'int'])"
      ]
     },
     "execution_count": 10,
     "metadata": {},
     "output_type": "execute_result"
    }
   ],
   "source": [
    "dic1.values()"
   ]
  },
  {
   "cell_type": "code",
   "execution_count": 11,
   "metadata": {},
   "outputs": [
    {
     "data": {
      "text/plain": [
       "12"
      ]
     },
     "execution_count": 11,
     "metadata": {},
     "output_type": "execute_result"
    }
   ],
   "source": [
    "dic1.pop(\"integer\")"
   ]
  },
  {
   "cell_type": "code",
   "execution_count": 12,
   "metadata": {},
   "outputs": [
    {
     "data": {
      "text/plain": [
       "{'key': 'value', 'string': 'name', 'float': 9.6, 123: 'int'}"
      ]
     },
     "execution_count": 12,
     "metadata": {},
     "output_type": "execute_result"
    }
   ],
   "source": [
    "dic1"
   ]
  },
  {
   "cell_type": "code",
   "execution_count": 13,
   "metadata": {},
   "outputs": [
    {
     "data": {
      "text/plain": [
       "(123, 'int')"
      ]
     },
     "execution_count": 13,
     "metadata": {},
     "output_type": "execute_result"
    }
   ],
   "source": [
    "dic1.popitem()"
   ]
  },
  {
   "cell_type": "code",
   "execution_count": 14,
   "metadata": {},
   "outputs": [],
   "source": [
    "dic1.update({12.3:\"abc\",12:78})"
   ]
  },
  {
   "cell_type": "code",
   "execution_count": 15,
   "metadata": {},
   "outputs": [
    {
     "data": {
      "text/plain": [
       "{'key': 'value', 'string': 'name', 'float': 9.6, 12.3: 'abc', 12: 78}"
      ]
     },
     "execution_count": 15,
     "metadata": {},
     "output_type": "execute_result"
    }
   ],
   "source": [
    "dic1"
   ]
  },
  {
   "cell_type": "code",
   "execution_count": 16,
   "metadata": {},
   "outputs": [],
   "source": [
    "dic1.update({1:[\"int\",12,34.6]})"
   ]
  },
  {
   "cell_type": "code",
   "execution_count": 17,
   "metadata": {},
   "outputs": [
    {
     "data": {
      "text/plain": [
       "{'key': 'value',\n",
       " 'string': 'name',\n",
       " 'float': 9.6,\n",
       " 12.3: 'abc',\n",
       " 12: 78,\n",
       " 1: ['int', 12, 34.6]}"
      ]
     },
     "execution_count": 17,
     "metadata": {},
     "output_type": "execute_result"
    }
   ],
   "source": [
    "dic1"
   ]
  },
  {
   "cell_type": "code",
   "execution_count": 18,
   "metadata": {},
   "outputs": [],
   "source": [
    "dic1[\"23\"]=\"apssdc\""
   ]
  },
  {
   "cell_type": "code",
   "execution_count": 19,
   "metadata": {},
   "outputs": [
    {
     "data": {
      "text/plain": [
       "{'key': 'value',\n",
       " 'string': 'name',\n",
       " 'float': 9.6,\n",
       " 12.3: 'abc',\n",
       " 12: 78,\n",
       " 1: ['int', 12, 34.6],\n",
       " '23': 'apssdc'}"
      ]
     },
     "execution_count": 19,
     "metadata": {},
     "output_type": "execute_result"
    }
   ],
   "source": [
    "dic1"
   ]
  },
  {
   "cell_type": "code",
   "execution_count": 20,
   "metadata": {},
   "outputs": [],
   "source": [
    "dic1[\"string\"] = \"tejaswini\""
   ]
  },
  {
   "cell_type": "code",
   "execution_count": 21,
   "metadata": {},
   "outputs": [
    {
     "data": {
      "text/plain": [
       "{'key': 'value',\n",
       " 'string': 'tejaswini',\n",
       " 'float': 9.6,\n",
       " 12.3: 'abc',\n",
       " 12: 78,\n",
       " 1: ['int', 12, 34.6],\n",
       " '23': 'apssdc'}"
      ]
     },
     "execution_count": 21,
     "metadata": {},
     "output_type": "execute_result"
    }
   ],
   "source": [
    "dic1"
   ]
  },
  {
   "cell_type": "code",
   "execution_count": 30,
   "metadata": {},
   "outputs": [
    {
     "data": {
      "text/plain": [
       "{'y': None, 'z': None}"
      ]
     },
     "execution_count": 30,
     "metadata": {},
     "output_type": "execute_result"
    }
   ],
   "source": [
    "x = (\"y\",\"z\")\n",
    "dic1.fromkeys(x)"
   ]
  },
  {
   "cell_type": "code",
   "execution_count": 28,
   "metadata": {},
   "outputs": [],
   "source": [
    "keys = {\"a\",\"b\",\"c\",\"d\"}\n",
    "value = {\"alp\",\"abc\",\"df\",\"rt\"}\n",
    "v = dict.fromkeys(keys,value)"
   ]
  },
  {
   "cell_type": "code",
   "execution_count": 29,
   "metadata": {},
   "outputs": [
    {
     "data": {
      "text/plain": [
       "{'d': {'abc', 'alp', 'df', 'rt'},\n",
       " 'b': {'abc', 'alp', 'df', 'rt'},\n",
       " 'c': {'abc', 'alp', 'df', 'rt'},\n",
       " 'a': {'abc', 'alp', 'df', 'rt'}}"
      ]
     },
     "execution_count": 29,
     "metadata": {},
     "output_type": "execute_result"
    }
   ],
   "source": [
    "v"
   ]
  },
  {
   "cell_type": "code",
   "execution_count": 31,
   "metadata": {},
   "outputs": [
    {
     "name": "stdout",
     "output_type": "stream",
     "text": [
      "Help on built-in function fromkeys:\n",
      "\n",
      "fromkeys(iterable, value=None, /) method of builtins.type instance\n",
      "    Create a new dictionary with keys from iterable and values set to value.\n",
      "\n"
     ]
    }
   ],
   "source": [
    "help(dict.fromkeys)"
   ]
  },
  {
   "cell_type": "code",
   "execution_count": 32,
   "metadata": {},
   "outputs": [
    {
     "name": "stdout",
     "output_type": "stream",
     "text": [
      "key\n",
      "string\n",
      "float\n",
      "12.3\n",
      "12\n",
      "1\n",
      "23\n"
     ]
    }
   ],
   "source": [
    "for item in dic1.keys():\n",
    "    print(item)"
   ]
  },
  {
   "cell_type": "code",
   "execution_count": 33,
   "metadata": {},
   "outputs": [
    {
     "name": "stdout",
     "output_type": "stream",
     "text": [
      "value\n",
      "tejaswini\n",
      "9.6\n",
      "abc\n",
      "78\n",
      "['int', 12, 34.6]\n",
      "apssdc\n"
     ]
    }
   ],
   "source": [
    "#values\n",
    "#items\n",
    "for item in dic1.values():\n",
    "    print(item)\n"
   ]
  },
  {
   "cell_type": "code",
   "execution_count": 34,
   "metadata": {},
   "outputs": [
    {
     "name": "stdout",
     "output_type": "stream",
     "text": [
      "('key', 'value')\n",
      "('string', 'tejaswini')\n",
      "('float', 9.6)\n",
      "(12.3, 'abc')\n",
      "(12, 78)\n",
      "(1, ['int', 12, 34.6])\n",
      "('23', 'apssdc')\n"
     ]
    }
   ],
   "source": [
    "for item in dic1.items():\n",
    "    print(item)\n"
   ]
  },
  {
   "cell_type": "code",
   "execution_count": 38,
   "metadata": {},
   "outputs": [
    {
     "name": "stdout",
     "output_type": "stream",
     "text": [
      "key:value\n",
      "string:tejaswini\n",
      "float:9.6\n",
      "12.3:abc\n",
      "12:78\n",
      "1:['int', 12, 34.6]\n",
      "23:apssdc\n"
     ]
    }
   ],
   "source": [
    "for key,value in dic1.items():\n",
    "    print(key,value,sep=\":\")"
   ]
  },
  {
   "cell_type": "code",
   "execution_count": 40,
   "metadata": {},
   "outputs": [
    {
     "data": {
      "text/plain": [
       "{1: 1,\n",
       " 2: 4,\n",
       " 3: 9,\n",
       " 4: 16,\n",
       " 5: 25,\n",
       " 6: 36,\n",
       " 7: 49,\n",
       " 8: 64,\n",
       " 9: 81,\n",
       " 10: 100,\n",
       " 11: 121,\n",
       " 12: 144,\n",
       " 13: 169,\n",
       " 14: 196,\n",
       " 15: 225}"
      ]
     },
     "execution_count": 40,
     "metadata": {},
     "output_type": "execute_result"
    }
   ],
   "source": [
    "# prepare a dictionary of squares values of numbers from 1 to 15\n",
    "#{1:1,2:4,3:9.............15:225}\n",
    "squares = {}\n",
    "for i in range(1,16):\n",
    "    squares[i] = i**2\n",
    "squares\n",
    "    "
   ]
  },
  {
   "cell_type": "code",
   "execution_count": 43,
   "metadata": {},
   "outputs": [
    {
     "data": {
      "text/plain": [
       "{'A': 65, 'B': 66, 'C': 67, 'D': 68, 'E': 69, 'F': 70, 'G': 71, 'H': 72}"
      ]
     },
     "execution_count": 43,
     "metadata": {},
     "output_type": "execute_result"
    }
   ],
   "source": [
    "# prepare a dictionary of chars from A to H with their ascii values\n",
    "# A to Z = 65 to 90\n",
    "# a to z = 97 to 122\n",
    "#{\"A\":65,\"B\":66...................\"H\":}\n",
    "d = {}\n",
    "value = 65\n",
    "for i in range(8):\n",
    "    d[chr(value)] = value # d[chr(65)]=65\n",
    "\n",
    "    value+=1                d[chr(66)]=66\n",
    "d\n",
    "    \n",
    "    "
   ]
  },
  {
   "cell_type": "code",
   "execution_count": 42,
   "metadata": {},
   "outputs": [
    {
     "data": {
      "text/plain": [
       "'B'"
      ]
     },
     "execution_count": 42,
     "metadata": {},
     "output_type": "execute_result"
    }
   ],
   "source": [
    "chr(66)"
   ]
  },
  {
   "cell_type": "code",
   "execution_count": 44,
   "metadata": {},
   "outputs": [
    {
     "data": {
      "text/plain": [
       "65"
      ]
     },
     "execution_count": 44,
     "metadata": {},
     "output_type": "execute_result"
    }
   ],
   "source": [
    "ord(\"A\")"
   ]
  },
  {
   "cell_type": "code",
   "execution_count": 47,
   "metadata": {},
   "outputs": [
    {
     "data": {
      "text/plain": [
       "{1: 3, 2: 2, 3: 2, 4: 5, 5: 1, 6: 1}"
      ]
     },
     "execution_count": 47,
     "metadata": {},
     "output_type": "execute_result"
    }
   ],
   "source": [
    "# counting the elements\n",
    "a = [1,2,3,2,1,3,4,4,4,4,4,5,6,1]\n",
    "# {1:3,2:2,3:2,4:}\n",
    "d = {}# 1:1,2:1,3:1,\n",
    "for  i in a: # 1\n",
    "    if i not in d:#1\n",
    "        d[i] = 1# 1:1\n",
    "    else:\n",
    "        d[i]+=1# 2:2\n",
    "d"
   ]
  },
  {
   "cell_type": "code",
   "execution_count": 46,
   "metadata": {},
   "outputs": [
    {
     "data": {
      "text/plain": [
       "{1: 3, 2: 2, 3: 2, 4: 5, 5: 1, 6: 1}"
      ]
     },
     "execution_count": 46,
     "metadata": {},
     "output_type": "execute_result"
    }
   ],
   "source": [
    "a=[1,2,3,2,1,3,4,4,4,4,4,5,6,1]\n",
    "d={}\n",
    "for i in a:\n",
    "    d[i]=a.count(i)\n",
    "d\n"
   ]
  },
  {
   "cell_type": "markdown",
   "metadata": {},
   "source": [
    "### Packages and Modules"
   ]
  },
  {
   "cell_type": "code",
   "execution_count": 48,
   "metadata": {},
   "outputs": [
    {
     "name": "stdout",
     "output_type": "stream",
     "text": [
      "\n",
      "Please wait a moment while I gather a list of all available modules...\n",
      "\n"
     ]
    },
    {
     "name": "stderr",
     "output_type": "stream",
     "text": [
      "C:\\Users\\Alekhya\\Anaconda3\\lib\\site-packages\\IPython\\kernel\\__init__.py:13: ShimWarning: The `IPython.kernel` package has been deprecated since IPython 4.0.You should import from ipykernel or jupyter_client instead.\n",
      "  \"You should import from ipykernel or jupyter_client instead.\", ShimWarning)\n",
      "WARNING: AstropyDeprecationWarning: astropy.utils.compat.futures is now deprecated - use concurrent.futures instead [astropy.utils.compat.futures]\n",
      "WARNING: The conda.compat module is deprecated and will be removed in a future release.\n",
      "C:\\Users\\Alekhya\\Anaconda3\\lib\\site-packages\\dask\\config.py:168: YAMLLoadWarning: calling yaml.load() without Loader=... is deprecated, as the default Loader is unsafe. Please read https://msg.pyyaml.org/load for full details.\n",
      "  data = yaml.load(f.read()) or {}\n",
      "C:\\Users\\Alekhya\\Anaconda3\\lib\\site-packages\\distributed\\config.py:20: YAMLLoadWarning: calling yaml.load() without Loader=... is deprecated, as the default Loader is unsafe. Please read https://msg.pyyaml.org/load for full details.\n",
      "  defaults = yaml.load(f)\n",
      "C:\\Users\\Alekhya\\Anaconda3\\lib\\site-packages\\nltk\\twitter\\__init__.py:22: UserWarning: The twython library has not been installed. Some functionality from the twitter package will not be available.\n",
      "  \"The twython library has not been installed. \"\n"
     ]
    },
    {
     "name": "stdout",
     "output_type": "stream",
     "text": [
      "DEBUG:pip._internal.vcs.versioncontrol:Registered VCS backend: bzr\n",
      "DEBUG:pip._internal.vcs.versioncontrol:Registered VCS backend: git\n",
      "DEBUG:pip._internal.vcs.versioncontrol:Registered VCS backend: hg\n",
      "DEBUG:pip._internal.vcs.versioncontrol:Registered VCS backend: svn\n"
     ]
    },
    {
     "name": "stderr",
     "output_type": "stream",
     "text": [
      "C:\\Users\\Alekhya\\Anaconda3\\lib\\site-packages\\skimage\\novice\\__init__.py:103: UserWarning: The `skimage.novice` module was deprecated in version 0.14. It will be removed in 0.16.\n",
      "  warnings.warn(\"The `skimage.novice` module was deprecated in version 0.14. \"\n",
      "C:\\Users\\Alekhya\\Anaconda3\\lib\\site-packages\\skimage\\viewer\\utils\\core.py:10: UserWarning: Recommended matplotlib backend is `Agg` for full skimage.viewer functionality.\n",
      "  warn(\"Recommended matplotlib backend is `Agg` for full \"\n",
      "C:\\Users\\Alekhya\\Anaconda3\\lib\\site-packages\\sphinx\\websupport\\__init__.py:25: RemovedInSphinx20Warning: sphinx.websupport module is now provided as sphinxcontrib-websupport. sphinx.websupport will be removed at Sphinx-2.0. Please use the package instead.\n",
      "  RemovedInSphinx20Warning)\n",
      "C:\\Users\\Alekhya\\Anaconda3\\lib\\site-packages\\qtawesome\\iconic_font.py:276: UserWarning: You need to have a running QApplication to use QtAwesome!\n",
      "  warnings.warn(\"You need to have a running \"\n",
      "C:\\Users\\Alekhya\\Anaconda3\\lib\\pkgutil.py:107: VisibleDeprecationWarning: zmq.eventloop.minitornado is deprecated in pyzmq 14.0 and will be removed.\n",
      "    Install tornado itself to use zmq with the tornado IOLoop.\n",
      "    \n",
      "  yield from walk_packages(path, info.name+'.', onerror)\n"
     ]
    },
    {
     "name": "stdout",
     "output_type": "stream",
     "text": [
      "Crypto              builtins            mistune             sortedcontainers\n",
      "Cython              bz2                 mkl                 soupsieve\n",
      "IPython             cProfile            mkl_fft             sphinx\n",
      "OpenSSL             calendar            mkl_random          sphinxcontrib\n",
      "PIL                 certifi             mmap                spyder\n",
      "PyQt5               cffi                mmapfile            spyder_breakpoints\n",
      "__future__          cgi                 mmsystem            spyder_io_dcm\n",
      "_abc                cgitb               modulefinder        spyder_io_hdf5\n",
      "_ast                chardet             more_itertools      spyder_kernels\n",
      "_asyncio            chunk               mpmath              spyder_profiler\n",
      "_bisect             click               msgpack             spyder_pylint\n",
      "_blake2             cloudpickle         msilib              sqlalchemy\n",
      "_bootlocale         clyent              msvcrt              sqlite3\n",
      "_bz2                cmath               multipledispatch    sre_compile\n",
      "_cffi_backend       cmd                 multiprocessing     sre_constants\n",
      "_codecs             code                navigator_updater   sre_parse\n",
      "_codecs_cn          codecs              nbconvert           ssl\n",
      "_codecs_hk          codeop              nbformat            sspi\n",
      "_codecs_iso2022     collections         netbios             sspicon\n",
      "_codecs_jp          colorama            netrc               stat\n",
      "_codecs_kr          colorsys            networkx            statistics\n",
      "_codecs_tw          commctrl            nltk                statsmodels\n",
      "_collections        compileall          nntplib             storemagic\n",
      "_collections_abc    comtypes            nose                string\n",
      "_compat_pickle      concurrent          notebook            stringprep\n",
      "_compression        conda               nt                  struct\n",
      "_contextvars        conda_build         ntpath              subprocess\n",
      "_csv                conda_env           ntsecuritycon       sunau\n",
      "_ctypes             conda_verify        nturl2path          symbol\n",
      "_ctypes_test        configparser        numba               sympy\n",
      "_datetime           contextlib          numbers             sympyprinting\n",
      "_decimal            contextlib2         numexpr             symtable\n",
      "_dummy_thread       contextvars         numpy               sys\n",
      "_elementtree        copy                numpydoc            sysconfig\n",
      "_functools          copyreg             odbc                tables\n",
      "_hashlib            crypt               olefile             tabnanny\n",
      "_heapq              cryptography        opcode              tarfile\n",
      "_imp                csv                 openpyxl            tblib\n",
      "_io                 ctypes              operator            telnetlib\n",
      "_json               curl                optparse            tempfile\n",
      "_locale             curses              os                  terminado\n",
      "_lsprof             cwp                 packaging           test\n",
      "_lzma               cycler              pandas              test_data\n",
      "_markupbase         cython              pandocfilters       test_path\n",
      "_md5                cythonmagic         parser              test_pycosat\n",
      "_msi                cytoolz             parso               testpath\n",
      "_multibytecodec     dask                partd               tests\n",
      "_multiprocessing    dataclasses         past                textwrap\n",
      "_nsis               datetime            path                this\n",
      "_opcode             dateutil            pathlib             threading\n",
      "_operator           dbi                 pathlib2            time\n",
      "_osx_support        dbm                 patsy               timeit\n",
      "_overlapped         dde                 pdb                 timer\n",
      "_pickle             decimal             pep8                tkinter\n",
      "_py_abc             decorator           perfmon             tlz\n",
      "_pydecimal          defusedxml          pickle              token\n",
      "_pyio               difflib             pickleshare         tokenize\n",
      "_pylief             dis                 pickletools         toolz\n",
      "_pyrsistent_version distributed         pip                 tornado\n",
      "_pytest             distutils           pipes               tqdm\n",
      "_queue              doctest             pkg_resources       trace\n",
      "_random             docutils            pkginfo             traceback\n",
      "_sha1               dummy_threading     pkgutil             tracemalloc\n",
      "_sha256             easy_install        platform            traitlets\n",
      "_sha3               email               plistlib            tty\n",
      "_sha512             encodings           pluggy              turtle\n",
      "_signal             ensurepip           ply                 turtledemo\n",
      "_sitebuiltins       entrypoints         poplib              types\n",
      "_socket             enum                posixpath           typing\n",
      "_sqlite3            errno               pprint              unicodecsv\n",
      "_sre                et_xmlfile          profile             unicodedata\n",
      "_ssl                fastcache           prometheus_client   unittest\n",
      "_stat               faulthandler        prompt_toolkit      urllib\n",
      "_string             filecmp             pstats              urllib3\n",
      "_strptime           fileinput           psutil              uu\n",
      "_struct             filelock            pty                 uuid\n",
      "_symtable           flask               pvectorc            venv\n",
      "_system_path        fnmatch             py                  warnings\n",
      "_testbuffer         formatter           py_compile          wave\n",
      "_testcapi           fractions           pyclbr              wcwidth\n",
      "_testconsole        ftplib              pycodestyle         weakref\n",
      "_testimportmultiple functools           pycosat             webbrowser\n",
      "_testmultiphase     future              pycparser           webencodings\n",
      "_thread             gc                  pycurl              werkzeug\n",
      "_threading_local    genericpath         pydoc               wheel\n",
      "_tkinter            getopt              pydoc_data          widgetsnbextension\n",
      "_tracemalloc        getpass             pydotplus           win2kras\n",
      "_warnings           gettext             pyexpat             win32api\n",
      "_weakref            gevent              pyflakes            win32clipboard\n",
      "_weakrefset         glob                pygments            win32com\n",
      "_win32sysloader     glob2               pylab               win32con\n",
      "_winapi             graphviz            pylint              win32console\n",
      "_winxptheme         greenlet            pyodbc              win32cred\n",
      "_yaml               gzip                pyparsing           win32crypt\n",
      "abc                 h5py                pyreadline          win32cryptcon\n",
      "adodbapi            hashlib             pyrsistent          win32event\n",
      "afxres              heapdict            pytest              win32evtlog\n",
      "aifc                heapq               pytest_arraydiff    win32evtlogutil\n",
      "alabaster           hmac                pytest_doctestplus  win32file\n",
      "anaconda_navigator  html                pytest_openfiles    win32gui\n",
      "anaconda_project    html5lib            pytest_remotedata   win32gui_struct\n",
      "antigravity         http                pythoncom           win32help\n",
      "argparse            idlelib             pytz                win32inet\n",
      "array               idna                pywin               win32inetcon\n",
      "asn1crypto          imageio             pywin32_testutil    win32job\n",
      "ast                 imagesize           pywintypes          win32lz\n",
      "astroid             imaplib             pywt                win32net\n",
      "astropy             imghdr              pyximport           win32netcon\n",
      "asynchat            imp                 qtawesome           win32pdh\n",
      "asyncio             importlib           qtconsole           win32pdhquery\n",
      "asyncore            importlib_metadata  qtpy                win32pdhutil\n",
      "atexit              inspect             queue               win32pipe\n",
      "atomicwrites        io                  quopri              win32print\n",
      "attr                ipaddress           random              win32process\n",
      "audioop             ipykernel           rasutil             win32profile\n",
      "autoreload          ipykernel_launcher  re                  win32ras\n",
      "babel               ipython_genutils    readline            win32rcparser\n"
     ]
    },
    {
     "name": "stdout",
     "output_type": "stream",
     "text": [
      "backcall            ipywidgets          regcheck            win32security\n",
      "backports           isapi               regutil             win32service\n",
      "base64              isort               reprlib             win32serviceutil\n",
      "bdb                 isympy              requests            win32timezone\n",
      "binascii            itertools           rlcompleter         win32trace\n",
      "binhex              itsdangerous        rmagic              win32traceutil\n",
      "binstar_client      jdcal               rope                win32transaction\n",
      "bisect              jedi                ruamel_yaml         win32ts\n",
      "bitarray            jinja2              run                 win32ui\n",
      "bkcharts            json                runpy               win32uiole\n",
      "bleach              jsonschema          sched               win32verstamp\n",
      "bokeh               jupyter             scipy               win32wnet\n",
      "boto                jupyter_client      scripts             win_inet_pton\n",
      "bottleneck          jupyter_console     seaborn             win_unicode_console\n",
      "brain_argparse      jupyter_core        secrets             wincertstore\n",
      "brain_attrs         jupyterlab          select              winerror\n",
      "brain_builtin_inference jupyterlab_server   selectors           winioctlcon\n",
      "brain_collections   keyring             send2trash          winnt\n",
      "brain_curses        keyword             servicemanager      winperf\n",
      "brain_dateutil      kiwisolver          setuptools          winpty\n",
      "brain_fstrings      lazy_object_proxy   shelve              winreg\n",
      "brain_functools     lib2to3             shlex               winsound\n",
      "brain_gi            libarchive          shutil              winxpgui\n",
      "brain_hashlib       libfuturize         signal              winxptheme\n",
      "brain_http          libpasteurize       simplegeneric       wrapt\n",
      "brain_io            lief                singledispatch      wsgiref\n",
      "brain_mechanize     linecache           singledispatch_helpers xdrlib\n",
      "brain_multiprocessing llvmlite            sip                 xlrd\n",
      "brain_namedtuple_enum locale              sipconfig           xlsxwriter\n",
      "brain_nose          locket              sipdistutils        xlwings\n",
      "brain_numpy         logging             site                xlwt\n",
      "brain_pkg_resources lxml                six                 xml\n",
      "brain_pytest        lzma                skimage             xmlrpc\n",
      "brain_qt            macpath             sklearn             xxsubtype\n",
      "brain_random        mailbox             smtpd               yaml\n",
      "brain_re            mailcap             smtplib             zict\n",
      "brain_six           markupsafe          sndhdr              zipapp\n",
      "brain_ssl           marshal             snowballstemmer     zipfile\n",
      "brain_subprocess    math                socket              zipimport\n",
      "brain_threading     matplotlib          socketserver        zipp\n",
      "brain_typing        mccabe              socks               zlib\n",
      "brain_uuid          menuinst            sockshandler        zmq\n",
      "bs4                 mimetypes           sortedcollections   \n",
      "\n",
      "Enter any module name to get more help.  Or, type \"modules spam\" to search\n",
      "for modules whose name or summary contain the string \"spam\".\n",
      "\n",
      "DEBUG:matplotlib.pyplot:Loaded backend module://ipykernel.pylab.backend_inline version unknown.\n"
     ]
    }
   ],
   "source": [
    "help(\"modules\")"
   ]
  },
  {
   "cell_type": "code",
   "execution_count": 51,
   "metadata": {},
   "outputs": [],
   "source": [
    "import math"
   ]
  },
  {
   "cell_type": "code",
   "execution_count": 54,
   "metadata": {},
   "outputs": [
    {
     "name": "stdout",
     "output_type": "stream",
     "text": [
      "['__doc__', '__loader__', '__name__', '__package__', '__spec__', 'acos', 'acosh', 'asin', 'asinh', 'atan', 'atan2', 'atanh', 'ceil', 'copysign', 'cos', 'cosh', 'degrees', 'e', 'erf', 'erfc', 'exp', 'expm1', 'fabs', 'factorial', 'floor', 'fmod', 'frexp', 'fsum', 'gamma', 'gcd', 'hypot', 'inf', 'isclose', 'isfinite', 'isinf', 'isnan', 'ldexp', 'lgamma', 'log', 'log10', 'log1p', 'log2', 'modf', 'nan', 'pi', 'pow', 'radians', 'remainder', 'sin', 'sinh', 'sqrt', 'tan', 'tanh', 'tau', 'trunc']\n"
     ]
    }
   ],
   "source": [
    "print(dir(math))"
   ]
  },
  {
   "cell_type": "code",
   "execution_count": 55,
   "metadata": {},
   "outputs": [
    {
     "name": "stdout",
     "output_type": "stream",
     "text": [
      "Help on built-in module math:\n",
      "\n",
      "NAME\n",
      "    math\n",
      "\n",
      "DESCRIPTION\n",
      "    This module is always available.  It provides access to the\n",
      "    mathematical functions defined by the C standard.\n",
      "\n",
      "FUNCTIONS\n",
      "    acos(x, /)\n",
      "        Return the arc cosine (measured in radians) of x.\n",
      "    \n",
      "    acosh(x, /)\n",
      "        Return the inverse hyperbolic cosine of x.\n",
      "    \n",
      "    asin(x, /)\n",
      "        Return the arc sine (measured in radians) of x.\n",
      "    \n",
      "    asinh(x, /)\n",
      "        Return the inverse hyperbolic sine of x.\n",
      "    \n",
      "    atan(x, /)\n",
      "        Return the arc tangent (measured in radians) of x.\n",
      "    \n",
      "    atan2(y, x, /)\n",
      "        Return the arc tangent (measured in radians) of y/x.\n",
      "        \n",
      "        Unlike atan(y/x), the signs of both x and y are considered.\n",
      "    \n",
      "    atanh(x, /)\n",
      "        Return the inverse hyperbolic tangent of x.\n",
      "    \n",
      "    ceil(x, /)\n",
      "        Return the ceiling of x as an Integral.\n",
      "        \n",
      "        This is the smallest integer >= x.\n",
      "    \n",
      "    copysign(x, y, /)\n",
      "        Return a float with the magnitude (absolute value) of x but the sign of y.\n",
      "        \n",
      "        On platforms that support signed zeros, copysign(1.0, -0.0)\n",
      "        returns -1.0.\n",
      "    \n",
      "    cos(x, /)\n",
      "        Return the cosine of x (measured in radians).\n",
      "    \n",
      "    cosh(x, /)\n",
      "        Return the hyperbolic cosine of x.\n",
      "    \n",
      "    degrees(x, /)\n",
      "        Convert angle x from radians to degrees.\n",
      "    \n",
      "    erf(x, /)\n",
      "        Error function at x.\n",
      "    \n",
      "    erfc(x, /)\n",
      "        Complementary error function at x.\n",
      "    \n",
      "    exp(x, /)\n",
      "        Return e raised to the power of x.\n",
      "    \n",
      "    expm1(x, /)\n",
      "        Return exp(x)-1.\n",
      "        \n",
      "        This function avoids the loss of precision involved in the direct evaluation of exp(x)-1 for small x.\n",
      "    \n",
      "    fabs(x, /)\n",
      "        Return the absolute value of the float x.\n",
      "    \n",
      "    factorial(x, /)\n",
      "        Find x!.\n",
      "        \n",
      "        Raise a ValueError if x is negative or non-integral.\n",
      "    \n",
      "    floor(x, /)\n",
      "        Return the floor of x as an Integral.\n",
      "        \n",
      "        This is the largest integer <= x.\n",
      "    \n",
      "    fmod(x, y, /)\n",
      "        Return fmod(x, y), according to platform C.\n",
      "        \n",
      "        x % y may differ.\n",
      "    \n",
      "    frexp(x, /)\n",
      "        Return the mantissa and exponent of x, as pair (m, e).\n",
      "        \n",
      "        m is a float and e is an int, such that x = m * 2.**e.\n",
      "        If x is 0, m and e are both 0.  Else 0.5 <= abs(m) < 1.0.\n",
      "    \n",
      "    fsum(seq, /)\n",
      "        Return an accurate floating point sum of values in the iterable seq.\n",
      "        \n",
      "        Assumes IEEE-754 floating point arithmetic.\n",
      "    \n",
      "    gamma(x, /)\n",
      "        Gamma function at x.\n",
      "    \n",
      "    gcd(x, y, /)\n",
      "        greatest common divisor of x and y\n",
      "    \n",
      "    hypot(x, y, /)\n",
      "        Return the Euclidean distance, sqrt(x*x + y*y).\n",
      "    \n",
      "    isclose(a, b, *, rel_tol=1e-09, abs_tol=0.0)\n",
      "        Determine whether two floating point numbers are close in value.\n",
      "        \n",
      "          rel_tol\n",
      "            maximum difference for being considered \"close\", relative to the\n",
      "            magnitude of the input values\n",
      "          abs_tol\n",
      "            maximum difference for being considered \"close\", regardless of the\n",
      "            magnitude of the input values\n",
      "        \n",
      "        Return True if a is close in value to b, and False otherwise.\n",
      "        \n",
      "        For the values to be considered close, the difference between them\n",
      "        must be smaller than at least one of the tolerances.\n",
      "        \n",
      "        -inf, inf and NaN behave similarly to the IEEE 754 Standard.  That\n",
      "        is, NaN is not close to anything, even itself.  inf and -inf are\n",
      "        only close to themselves.\n",
      "    \n",
      "    isfinite(x, /)\n",
      "        Return True if x is neither an infinity nor a NaN, and False otherwise.\n",
      "    \n",
      "    isinf(x, /)\n",
      "        Return True if x is a positive or negative infinity, and False otherwise.\n",
      "    \n",
      "    isnan(x, /)\n",
      "        Return True if x is a NaN (not a number), and False otherwise.\n",
      "    \n",
      "    ldexp(x, i, /)\n",
      "        Return x * (2**i).\n",
      "        \n",
      "        This is essentially the inverse of frexp().\n",
      "    \n",
      "    lgamma(x, /)\n",
      "        Natural logarithm of absolute value of Gamma function at x.\n",
      "    \n",
      "    log(...)\n",
      "        log(x, [base=math.e])\n",
      "        Return the logarithm of x to the given base.\n",
      "        \n",
      "        If the base not specified, returns the natural logarithm (base e) of x.\n",
      "    \n",
      "    log10(x, /)\n",
      "        Return the base 10 logarithm of x.\n",
      "    \n",
      "    log1p(x, /)\n",
      "        Return the natural logarithm of 1+x (base e).\n",
      "        \n",
      "        The result is computed in a way which is accurate for x near zero.\n",
      "    \n",
      "    log2(x, /)\n",
      "        Return the base 2 logarithm of x.\n",
      "    \n",
      "    modf(x, /)\n",
      "        Return the fractional and integer parts of x.\n",
      "        \n",
      "        Both results carry the sign of x and are floats.\n",
      "    \n",
      "    pow(x, y, /)\n",
      "        Return x**y (x to the power of y).\n",
      "    \n",
      "    radians(x, /)\n",
      "        Convert angle x from degrees to radians.\n",
      "    \n",
      "    remainder(x, y, /)\n",
      "        Difference between x and the closest integer multiple of y.\n",
      "        \n",
      "        Return x - n*y where n*y is the closest integer multiple of y.\n",
      "        In the case where x is exactly halfway between two multiples of\n",
      "        y, the nearest even value of n is used. The result is always exact.\n",
      "    \n",
      "    sin(x, /)\n",
      "        Return the sine of x (measured in radians).\n",
      "    \n",
      "    sinh(x, /)\n",
      "        Return the hyperbolic sine of x.\n",
      "    \n",
      "    sqrt(x, /)\n",
      "        Return the square root of x.\n",
      "    \n",
      "    tan(x, /)\n",
      "        Return the tangent of x (measured in radians).\n",
      "    \n",
      "    tanh(x, /)\n",
      "        Return the hyperbolic tangent of x.\n",
      "    \n",
      "    trunc(x, /)\n",
      "        Truncates the Real x to the nearest Integral toward 0.\n",
      "        \n",
      "        Uses the __trunc__ magic method.\n",
      "\n",
      "DATA\n",
      "    e = 2.718281828459045\n",
      "    inf = inf\n",
      "    nan = nan\n",
      "    pi = 3.141592653589793\n",
      "    tau = 6.283185307179586\n",
      "\n",
      "FILE\n",
      "    (built-in)\n",
      "\n",
      "\n",
      "None\n"
     ]
    }
   ],
   "source": [
    "print(help(math))"
   ]
  },
  {
   "cell_type": "code",
   "execution_count": 56,
   "metadata": {},
   "outputs": [
    {
     "data": {
      "text/plain": [
       "3.1622776601683795"
      ]
     },
     "execution_count": 56,
     "metadata": {},
     "output_type": "execute_result"
    }
   ],
   "source": [
    "math.sqrt(10)"
   ]
  },
  {
   "cell_type": "code",
   "execution_count": 57,
   "metadata": {},
   "outputs": [
    {
     "data": {
      "text/plain": [
       "120"
      ]
     },
     "execution_count": 57,
     "metadata": {},
     "output_type": "execute_result"
    }
   ],
   "source": [
    "math.factorial(5)"
   ]
  },
  {
   "cell_type": "code",
   "execution_count": 58,
   "metadata": {},
   "outputs": [
    {
     "name": "stdout",
     "output_type": "stream",
     "text": [
      "Package                            Version\n",
      "---------------------------------- --------\n",
      "alabaster                          0.7.12\n",
      "anaconda-client                    1.7.2\n",
      "anaconda-navigator                 1.9.7\n",
      "anaconda-project                   0.8.2\n",
      "asn1crypto                         0.24.0\n",
      "astroid                            2.2.5\n",
      "astropy                            3.1.2\n",
      "atomicwrites                       1.3.0\n",
      "attrs                              19.1.0\n",
      "Babel                              2.6.0\n",
      "backcall                           0.1.0\n",
      "backports.os                       0.1.1\n",
      "backports.shutil-get-terminal-size 1.0.0\n",
      "beautifulsoup4                     4.7.1\n",
      "bitarray                           0.8.3\n",
      "bkcharts                           0.2\n",
      "bleach                             3.1.0\n",
      "bokeh                              1.0.4\n",
      "boto                               2.49.0\n",
      "Bottleneck                         1.2.1\n",
      "certifi                            2019.3.9\n",
      "cffi                               1.12.2\n",
      "chardet                            3.0.4\n",
      "Click                              7.0\n",
      "cloudpickle                        0.8.0\n",
      "clyent                             1.2.2\n",
      "colorama                           0.4.1\n",
      "comtypes                           1.1.7\n",
      "conda                              4.6.11\n",
      "conda-build                        3.17.8\n",
      "conda-verify                       3.1.1\n",
      "contextlib2                        0.5.5\n",
      "cryptography                       2.6.1\n",
      "cycler                             0.10.0\n",
      "Cython                             0.29.6\n",
      "cytoolz                            0.9.0.1\n",
      "dask                               1.1.4\n",
      "decorator                          4.4.0\n",
      "defusedxml                         0.5.0\n",
      "distributed                        1.26.0\n",
      "docutils                           0.14\n",
      "entrypoints                        0.3\n",
      "et-xmlfile                         1.0.1\n",
      "fastcache                          1.0.2\n",
      "filelock                           3.0.10\n",
      "Flask                              1.0.2\n",
      "future                             0.17.1\n",
      "gevent                             1.4.0\n",
      "glob2                              0.6\n",
      "graphviz                           0.14.1\n",
      "greenlet                           0.4.15\n",
      "h5py                               2.9.0\n",
      "heapdict                           1.0.0\n",
      "html5lib                           1.0.1\n",
      "idna                               2.8\n",
      "imageio                            2.5.0\n",
      "imagesize                          1.1.0\n",
      "importlib-metadata                 0.0.0\n",
      "ipykernel                          5.1.0\n",
      "ipython                            7.4.0\n",
      "ipython-genutils                   0.2.0\n",
      "ipywidgets                         7.4.2\n",
      "isort                              4.3.16\n",
      "itsdangerous                       1.1.0\n",
      "jdcal                              1.4\n",
      "jedi                               0.13.3\n",
      "Jinja2                             2.10\n",
      "jsonschema                         3.0.1\n",
      "jupyter                            1.0.0\n",
      "jupyter-client                     5.2.4\n",
      "jupyter-console                    6.0.0\n",
      "jupyter-core                       4.4.0\n",
      "jupyterlab                         0.35.4\n",
      "jupyterlab-server                  0.2.0\n",
      "keyring                            18.0.0\n",
      "kiwisolver                         1.0.1\n",
      "lazy-object-proxy                  1.3.1\n",
      "libarchive-c                       2.8\n",
      "llvmlite                           0.28.0\n",
      "locket                             0.2.0\n",
      "lxml                               4.3.2\n",
      "MarkupSafe                         1.1.1\n",
      "matplotlib                         3.0.3\n",
      "mccabe                             0.6.1\n",
      "menuinst                           1.4.16\n",
      "mistune                            0.8.4\n",
      "mkl-fft                            1.0.10\n",
      "mkl-random                         1.0.2\n",
      "more-itertools                     6.0.0\n",
      "mpmath                             1.1.0\n",
      "msgpack                            0.6.1\n",
      "multipledispatch                   0.6.0\n",
      "navigator-updater                  0.2.1\n",
      "nbconvert                          5.4.1\n",
      "nbformat                           4.4.0\n",
      "networkx                           2.2\n",
      "nltk                               3.4\n",
      "nose                               1.3.7\n",
      "notebook                           5.7.8\n",
      "numba                              0.43.1\n",
      "numexpr                            2.6.9\n",
      "numpy                              1.16.2\n",
      "numpydoc                           0.8.0\n",
      "olefile                            0.46\n",
      "openpyxl                           2.6.1\n",
      "packaging                          19.0\n",
      "pandas                             0.24.2\n",
      "pandocfilters                      1.4.2\n",
      "parso                              0.3.4\n",
      "partd                              0.3.10\n",
      "path.py                            11.5.0\n",
      "pathlib2                           2.3.3\n",
      "patsy                              0.5.1\n",
      "pep8                               1.7.1\n",
      "pickleshare                        0.7.5\n",
      "Pillow                             5.4.1\n",
      "pip                                20.2.3\n",
      "pkginfo                            1.5.0.1\n",
      "pluggy                             0.9.0\n",
      "ply                                3.11\n",
      "prometheus-client                  0.6.0\n",
      "prompt-toolkit                     2.0.9\n",
      "psutil                             5.6.1\n",
      "py                                 1.8.0\n",
      "pycodestyle                        2.5.0\n",
      "pycosat                            0.6.3\n",
      "pycparser                          2.19\n",
      "pycrypto                           2.6.1\n",
      "pycurl                             7.43.0.2\n",
      "pydotplus                          2.0.2\n",
      "pyflakes                           2.1.1\n",
      "Pygments                           2.3.1\n",
      "pylint                             2.3.1\n",
      "pyodbc                             4.0.26\n",
      "pyOpenSSL                          19.0.0\n",
      "pyparsing                          2.3.1\n",
      "pyreadline                         2.1\n",
      "pyrsistent                         0.14.11\n",
      "PySocks                            1.6.8\n",
      "pytest                             4.3.1\n",
      "pytest-arraydiff                   0.3\n",
      "pytest-astropy                     0.5.0\n",
      "pytest-doctestplus                 0.3.0\n",
      "pytest-openfiles                   0.3.2\n",
      "pytest-remotedata                  0.3.1\n",
      "python-dateutil                    2.8.0\n",
      "pytz                               2018.9\n",
      "PyWavelets                         1.0.2\n",
      "pywin32                            223\n",
      "pywinpty                           0.5.5\n",
      "PyYAML                             5.1\n",
      "pyzmq                              18.0.0\n",
      "QtAwesome                          0.5.7\n",
      "qtconsole                          4.4.3\n",
      "QtPy                               1.7.0\n",
      "requests                           2.21.0\n",
      "rope                               0.12.0\n",
      "ruamel-yaml                        0.15.46\n",
      "scikit-image                       0.14.2\n",
      "scikit-learn                       0.20.3\n",
      "scipy                              1.2.1\n",
      "seaborn                            0.9.0\n",
      "Send2Trash                         1.5.0\n",
      "setuptools                         40.8.0\n",
      "simplegeneric                      0.8.1\n",
      "singledispatch                     3.4.0.3\n",
      "six                                1.12.0\n",
      "snowballstemmer                    1.2.1\n",
      "sortedcollections                  1.1.2\n",
      "sortedcontainers                   2.1.0\n",
      "soupsieve                          1.8\n",
      "Sphinx                             1.8.5\n",
      "sphinxcontrib-websupport           1.1.0\n",
      "spyder                             3.3.3\n",
      "spyder-kernels                     0.4.2\n",
      "SQLAlchemy                         1.3.1\n",
      "statsmodels                        0.9.0\n",
      "sympy                              1.3\n",
      "tables                             3.5.1\n",
      "tblib                              1.3.2\n",
      "terminado                          0.8.1\n",
      "testpath                           0.4.2\n",
      "toolz                              0.9.0\n",
      "tornado                            6.0.2\n",
      "tqdm                               4.31.1\n",
      "traitlets                          4.3.2\n",
      "unicodecsv                         0.14.1\n",
      "urllib3                            1.24.1\n",
      "wcwidth                            0.1.7\n",
      "webencodings                       0.5.1\n",
      "Werkzeug                           0.14.1\n",
      "wheel                              0.33.1\n",
      "widgetsnbextension                 3.4.2\n",
      "win-inet-pton                      1.1.0\n",
      "win-unicode-console                0.5\n",
      "wincertstore                       0.2\n",
      "wrapt                              1.11.1\n"
     ]
    },
    {
     "name": "stdout",
     "output_type": "stream",
     "text": [
      "xlrd                               1.2.0\n",
      "XlsxWriter                         1.1.5\n",
      "xlwings                            0.15.4\n",
      "xlwt                               1.3.0\n",
      "zict                               0.1.4\n",
      "zipp                               0.3.3\n",
      "Note: you may need to restart the kernel to use updated packages.\n"
     ]
    }
   ],
   "source": [
    "pip list # packages"
   ]
  },
  {
   "cell_type": "code",
   "execution_count": 59,
   "metadata": {},
   "outputs": [],
   "source": [
    "import module"
   ]
  },
  {
   "cell_type": "code",
   "execution_count": 60,
   "metadata": {},
   "outputs": [
    {
     "name": "stdout",
     "output_type": "stream",
     "text": [
      "Help on module module:\n",
      "\n",
      "NAME\n",
      "    module\n",
      "\n",
      "FUNCTIONS\n",
      "    greeting(name)\n",
      "\n",
      "FILE\n",
      "    c:\\users\\alekhya\\desktop\\dataanalysis(batch5)\\module.py\n",
      "\n",
      "\n"
     ]
    }
   ],
   "source": [
    "help(module)"
   ]
  },
  {
   "cell_type": "code",
   "execution_count": 61,
   "metadata": {},
   "outputs": [
    {
     "name": "stdout",
     "output_type": "stream",
     "text": [
      "Hello alekhya\n"
     ]
    }
   ],
   "source": [
    "module.greeting(\"alekhya\")"
   ]
  },
  {
   "cell_type": "code",
   "execution_count": 62,
   "metadata": {},
   "outputs": [],
   "source": [
    "from pack import apssdc"
   ]
  },
  {
   "cell_type": "code",
   "execution_count": 63,
   "metadata": {},
   "outputs": [
    {
     "name": "stdout",
     "output_type": "stream",
     "text": [
      "Help on module pack.apssdc in pack:\n",
      "\n",
      "NAME\n",
      "    pack.apssdc\n",
      "\n",
      "FUNCTIONS\n",
      "    even(a)\n",
      "    \n",
      "    largest(a, b)\n",
      "\n",
      "FILE\n",
      "    c:\\users\\alekhya\\desktop\\dataanalysis(batch5)\\pack\\apssdc.py\n",
      "\n",
      "\n"
     ]
    }
   ],
   "source": [
    "help(apssdc)"
   ]
  },
  {
   "cell_type": "code",
   "execution_count": 64,
   "metadata": {},
   "outputs": [
    {
     "name": "stdout",
     "output_type": "stream",
     "text": [
      "odd\n"
     ]
    }
   ],
   "source": [
    "apssdc.even(5)"
   ]
  },
  {
   "cell_type": "code",
   "execution_count": 65,
   "metadata": {},
   "outputs": [
    {
     "name": "stdout",
     "output_type": "stream",
     "text": [
      "even\n"
     ]
    }
   ],
   "source": [
    "apssdc.even(6)"
   ]
  },
  {
   "cell_type": "code",
   "execution_count": 66,
   "metadata": {},
   "outputs": [
    {
     "name": "stdout",
     "output_type": "stream",
     "text": [
      "45\n"
     ]
    }
   ],
   "source": [
    "apssdc.largest(23,45)"
   ]
  },
  {
   "cell_type": "code",
   "execution_count": null,
   "metadata": {},
   "outputs": [],
   "source": []
  }
 ],
 "metadata": {
  "kernelspec": {
   "display_name": "Python 3",
   "language": "python",
   "name": "python3"
  },
  "language_info": {
   "codemirror_mode": {
    "name": "ipython",
    "version": 3
   },
   "file_extension": ".py",
   "mimetype": "text/x-python",
   "name": "python",
   "nbconvert_exporter": "python",
   "pygments_lexer": "ipython3",
   "version": "3.7.3"
  }
 },
 "nbformat": 4,
 "nbformat_minor": 2
}
