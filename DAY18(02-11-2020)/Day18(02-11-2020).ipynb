{
 "cells": [
  {
   "cell_type": "markdown",
   "metadata": {},
   "source": [
    "```\n",
    "l = \"python programming\"\n",
    "\n",
    "# len()\n",
    "\n",
    "# count = 18\n",
    "\n",
    "p -> 2\n",
    "y -> 1\n",
    "t -> 1\n",
    "o -> 2\n",
    "n -> 2\n",
    "#   -> 1\n",
    "r -> 2\n",
    "g -> 2\n",
    "a -> 1\n",
    "m -> 2\n",
    "i -> 1\n",
    "```"
   ]
  },
  {
   "cell_type": "code",
   "execution_count": 14,
   "metadata": {},
   "outputs": [
    {
     "name": "stdout",
     "output_type": "stream",
     "text": [
      "python\n",
      "Count: 6\n"
     ]
    }
   ],
   "source": [
    "p = input()\n",
    "co = 0\n",
    "for h in p:\n",
    "    co += 1\n",
    "print(\"Count: {}\".format(co))\n",
    "# print(type(str(co)))"
   ]
  },
  {
   "cell_type": "markdown",
   "metadata": {},
   "source": [
    "```\n",
    "k = \"daaaaaaabcc\"\n",
    "\n",
    "d -> 1\n",
    "a -> 7\n",
    "b -> 1\n",
    "c -> 2\n",
    "\n",
    "\n",
    "m = \"This is Python Internship Program\"\n",
    "By using functions\n",
    "\n",
    "words => 5\n",
    "no of characters in a word:\n",
    "    this => 4\n",
    "    is => 2\n",
    "    Python => 6\n",
    "    Internship => 10\n",
    "    Program => 7\n",
    "    \n",
    "characters count => ?\n",
    "Vowels\n",
    "a -> 1\n",
    "e -> 1\n",
    "i -> 3\n",
    "o -> 2\n",
    "```"
   ]
  },
  {
   "cell_type": "code",
   "execution_count": 39,
   "metadata": {},
   "outputs": [
    {
     "name": "stdout",
     "output_type": "stream",
     "text": [
      "daaaaaaabcc\n",
      "a => 7\n",
      "b => 1\n",
      "d => 1\n",
      "c => 2\n"
     ]
    }
   ],
   "source": [
    "mn = input()\n",
    "# print(set(mn))\n",
    "for ak in set(mn):\n",
    "    if ak in mn:\n",
    "        print(ak,\"=>\",mn.count(ak))"
   ]
  },
  {
   "cell_type": "code",
   "execution_count": 43,
   "metadata": {},
   "outputs": [
    {
     "name": "stdout",
     "output_type": "stream",
     "text": [
      "daaaabcc"
     ]
    }
   ],
   "source": [
    "mn = \"daaaabcc\"\n",
    "for j in list(mn):\n",
    "    print(j,end=\"\")"
   ]
  },
  {
   "cell_type": "code",
   "execution_count": 53,
   "metadata": {},
   "outputs": [
    {
     "name": "stdout",
     "output_type": "stream",
     "text": [
      "<class 'dict'>\n"
     ]
    }
   ],
   "source": [
    "k = {'a':23,'e':12}\n",
    "print(type(k))"
   ]
  },
  {
   "cell_type": "code",
   "execution_count": 47,
   "metadata": {},
   "outputs": [
    {
     "name": "stdout",
     "output_type": "stream",
     "text": [
      "<class 'set'>\n"
     ]
    }
   ],
   "source": [
    "y = set()\n",
    "print(type(y))"
   ]
  },
  {
   "cell_type": "code",
   "execution_count": 59,
   "metadata": {},
   "outputs": [
    {
     "name": "stdout",
     "output_type": "stream",
     "text": [
      "daaaaaaaaaaaaabbbbbbbdddddddccccc\n",
      "d => 8\n",
      "a => 13\n",
      "b => 7\n",
      "c => 5\n"
     ]
    }
   ],
   "source": [
    "m = input()\n",
    "dq = {}\n",
    "for k in m:\n",
    "    dq[k] = m.count(k)\n",
    "for i,j in dq.items():\n",
    "    print(i,\"=>\",j)"
   ]
  },
  {
   "cell_type": "code",
   "execution_count": 1,
   "metadata": {},
   "outputs": [],
   "source": [
    "## 1) WAP to count the number of factors of a given number\n",
    "## 2) WAP to find second largest factor of given number\n",
    "## 3) WAP to find second smallest factor of a given number\n",
    "## 4) WAP to count all the prime nums between 1 to 100\n",
    "## 5) WAP to find sum of all prime nums between 1 to 100\n",
    "## 6) WAP to find largest and smallest prime number between 1 to 100"
   ]
  },
  {
   "cell_type": "code",
   "execution_count": null,
   "metadata": {},
   "outputs": [],
   "source": []
  },
  {
   "cell_type": "code",
   "execution_count": null,
   "metadata": {},
   "outputs": [],
   "source": []
  }
 ],
 "metadata": {
  "kernelspec": {
   "display_name": "Python 3",
   "language": "python",
   "name": "python3"
  },
  "language_info": {
   "codemirror_mode": {
    "name": "ipython",
    "version": 3
   },
   "file_extension": ".py",
   "mimetype": "text/x-python",
   "name": "python",
   "nbconvert_exporter": "python",
   "pygments_lexer": "ipython3",
   "version": "3.7.4"
  }
 },
 "nbformat": 4,
 "nbformat_minor": 2
}
