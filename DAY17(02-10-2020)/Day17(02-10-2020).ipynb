{
 "cells": [
  {
   "cell_type": "code",
   "execution_count": 3,
   "metadata": {},
   "outputs": [
    {
     "name": "stdout",
     "output_type": "stream",
     "text": [
      "enter a number 1234\n",
      "sum of digits is  10\n"
     ]
    }
   ],
   "source": [
    "# find the sum of digits ex: 123=> 1+2+3=6\n",
    "n=int(input(\"enter a number \"))\n",
    "s=0\n",
    "while(n>0):        #0>0\n",
    "    r=n%10         # r=1%10 => 1\n",
    "    s=s+r          # s=0+3=>3+2=>5+1=>6\n",
    "    n=n//10        #n=1//10 => 0\n",
    "print(\"sum of digits is \",s)"
   ]
  },
  {
   "cell_type": "code",
   "execution_count": 4,
   "metadata": {},
   "outputs": [],
   "source": [
    "#s=\"123\" => count the number of digists  => 3 ; \"4567\"=>4\n"
   ]
  },
  {
   "cell_type": "code",
   "execution_count": 5,
   "metadata": {},
   "outputs": [
    {
     "name": "stdout",
     "output_type": "stream",
     "text": [
      "enter a number1234\n",
      "number of digits is  4\n"
     ]
    }
   ],
   "source": [
    "s=input(\"enter a number\")\n",
    "n=int(s)\n",
    "c=0\n",
    "while(n>0):  #0>0\n",
    "    r=n%10  # r=1%10 => 1\n",
    "    c=c+1    #3\n",
    "    n=n//10  # n=1//10 => 0\n",
    "print(\"number of digits is \",c)\n",
    "    "
   ]
  },
  {
   "cell_type": "code",
   "execution_count": 7,
   "metadata": {},
   "outputs": [
    {
     "name": "stdout",
     "output_type": "stream",
     "text": [
      "enter a number 345\n",
      "given number is not palindrome\n"
     ]
    }
   ],
   "source": [
    "# find the given number is palindrome or not\n",
    "\n",
    "# 212=>213 (Palindrome)  123=>321(not palindrome)\n",
    "\n",
    "\n",
    "n=int(input(\"enter a number \"))\n",
    "temp=n\n",
    "s=0\n",
    "while(n>0):     #0>0\n",
    "    r=n%10      #r=2%10 => 2\n",
    "    s=s*10+r    # s=212\n",
    "    n=n//10     # n=2//10=>0\n",
    "    \n",
    "\n",
    "if(temp==s):\n",
    "    print(\"given number is palindrome\")\n",
    "else:\n",
    "    print(\"given number is not palindrome\")"
   ]
  },
  {
   "cell_type": "code",
   "execution_count": 13,
   "metadata": {},
   "outputs": [
    {
     "name": "stdout",
     "output_type": "stream",
     "text": [
      "Enter a number 16072003\n",
      "single digit of a given number is  1\n"
     ]
    }
   ],
   "source": [
    "# sum the given digits upto get single digit \n",
    "# 2301=>2+3+0+1=>6     \n",
    "# 1996=> 1+9+9+6=>25=>2+5=>7\n",
    "\n",
    "n=int(input(\"Enter a number \"))\n",
    "s=0\n",
    "while(n>0 or s>9):    \n",
    "    if(n==0):        \n",
    "        n=s            \n",
    "        s=0\n",
    "    r=n%10           \n",
    "    s=s+r           \n",
    "    n=n//10        \n",
    "\n",
    "print(\"single digit of a given number is \",s)"
   ]
  },
  {
   "cell_type": "code",
   "execution_count": 14,
   "metadata": {},
   "outputs": [],
   "source": [
    "# find the given number is armstrong or not\n",
    "#sum of cubes of individual number is equal to the given number is known as armstrong\n",
    "\n",
    "# 153=> 1*1*1+5*5*5+3*3*3=>1+125+27=>153\n",
    "# 1634=> 1*1*1*1+6*6*6*6+3*3*3*3+4*4*4*4=>"
   ]
  },
  {
   "cell_type": "code",
   "execution_count": 16,
   "metadata": {},
   "outputs": [
    {
     "name": "stdout",
     "output_type": "stream",
     "text": [
      "Enter a number 1634\n",
      "given number is armstrong number  1634\n"
     ]
    }
   ],
   "source": [
    "n=int(input(\"Enter a number \"))\n",
    "l=len(str(n))\n",
    "temp=n\n",
    "s=0\n",
    "while(n>0):\n",
    "    r=n%10\n",
    "    s=s+pow(r,l)\n",
    "    #s=s+r**3\n",
    "    n=n//10\n",
    "if(s==temp):\n",
    "    print(\"given number is armstrong number \",temp)\n",
    "else:\n",
    "    print(\"given number is not atmstrong number \",temp)"
   ]
  },
  {
   "cell_type": "code",
   "execution_count": null,
   "metadata": {},
   "outputs": [],
   "source": []
  },
  {
   "cell_type": "code",
   "execution_count": null,
   "metadata": {},
   "outputs": [],
   "source": []
  }
 ],
 "metadata": {
  "kernelspec": {
   "display_name": "Python 3",
   "language": "python",
   "name": "python3"
  },
  "language_info": {
   "codemirror_mode": {
    "name": "ipython",
    "version": 3
   },
   "file_extension": ".py",
   "mimetype": "text/x-python",
   "name": "python",
   "nbconvert_exporter": "python",
   "pygments_lexer": "ipython3",
   "version": "3.7.4"
  }
 },
 "nbformat": 4,
 "nbformat_minor": 2
}
