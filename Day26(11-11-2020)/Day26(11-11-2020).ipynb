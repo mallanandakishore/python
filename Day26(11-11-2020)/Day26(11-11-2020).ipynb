{
 "cells": [
  {
   "cell_type": "markdown",
   "metadata": {},
   "source": [
    "```\n",
    "Functional arguments:\n",
    "    -> function ?\n",
    "    -> types[user-defined,predefined]\n",
    "    -> User-Defined[4 types -> C Language]\n",
    "    -> Argument passing -> 4 types\n",
    "              -> required arguments -> argumnts(*)\n",
    "              -> default arguments -> argumnts(value=> ?,function call => fixed)\n",
    "              -> keyword arguments -> argumnts(function call,cllng -> variables == equal values \n",
    "              -> variable length arguments -> argumnts(value -> value to variable, n number of values -> (iterator in function call, function => [* tuple, ** dictionary] \n",
    "\n",
    "```"
   ]
  },
  {
   "cell_type": "markdown",
   "metadata": {},
   "source": [
    "```\n",
    "Anonymous Function or Functional Programming:\n",
    "--------------------------------------------\n",
    "    -> Lambda -> anonymous function(keyword doesnt use in this function creation)\n",
    "    -> It can be applicable for all Mathematical expressions\n",
    "    -> Lambda cant use def keyword. It can be used in large applications to reduce the code. It can be implemented to a comprehension or looping.\n",
    "    -> It can be divided into three types they are:\n",
    "            -> map\n",
    "            -> filter\n",
    "            -> reduce\n",
    "```"
   ]
  },
  {
   "cell_type": "markdown",
   "metadata": {},
   "source": [
    "```\n",
    "function syntax:\n",
    "    \n",
    "def function_name(arguments):\n",
    "    '''Function doc_string'''\n",
    "    // Statements\n",
    "    return return_value\n",
    "\n",
    "Lambda Syntax:\n",
    "\n",
    "lambda arguments: expression\n",
    "```"
   ]
  },
  {
   "cell_type": "code",
   "execution_count": 4,
   "metadata": {},
   "outputs": [
    {
     "name": "stdout",
     "output_type": "stream",
     "text": [
      "1\n",
      "2\n",
      "3\n"
     ]
    }
   ],
   "source": [
    "def add(a,b):\n",
    "    return a+b\n",
    "\n",
    "m = int(input())\n",
    "n = int(input())\n",
    "print(add(m,n))"
   ]
  },
  {
   "cell_type": "code",
   "execution_count": 5,
   "metadata": {},
   "outputs": [
    {
     "name": "stdout",
     "output_type": "stream",
     "text": [
      "1\n",
      "2\n",
      "9\n"
     ]
    }
   ],
   "source": [
    "d = lambda a,b:a**2+b**2+2*a*b\n",
    "print(d(int(input()),int(input())))"
   ]
  },
  {
   "cell_type": "markdown",
   "metadata": {},
   "source": [
    "```\n",
    "Map:\n",
    "    -> It can be used to change the data type of an iterator\n",
    "    -> Syntax:\n",
    "        map(function,iterator) or map(datatype,iterator)\n",
    "    -> In map it outputs as either true or false\n",
    "```"
   ]
  },
  {
   "cell_type": "code",
   "execution_count": 6,
   "metadata": {},
   "outputs": [
    {
     "name": "stdout",
     "output_type": "stream",
     "text": [
      "4 5 6 7 8\n",
      "[4, 5, 6, 7, 8]\n"
     ]
    }
   ],
   "source": [
    "s = input().split()\n",
    "r = []\n",
    "for l in s:\n",
    "    r.append(int(l))\n",
    "print(r)"
   ]
  },
  {
   "cell_type": "code",
   "execution_count": 7,
   "metadata": {},
   "outputs": [
    {
     "name": "stdout",
     "output_type": "stream",
     "text": [
      "4 5 6 78\n",
      "[4, 5, 6, 78]\n"
     ]
    }
   ],
   "source": [
    "e = list(map(int,input().split()))\n",
    "print(e)"
   ]
  },
  {
   "cell_type": "code",
   "execution_count": 8,
   "metadata": {},
   "outputs": [
    {
     "name": "stdout",
     "output_type": "stream",
     "text": [
      "4 5\n",
      "[True, False]\n"
     ]
    }
   ],
   "source": [
    "r = list(map(lambda s:s%2==0,map(int,input().split())))\n",
    "print(r)"
   ]
  },
  {
   "cell_type": "code",
   "execution_count": 9,
   "metadata": {},
   "outputs": [
    {
     "name": "stdout",
     "output_type": "stream",
     "text": [
      "4 3 5\n",
      "[True, False, False, False]\n"
     ]
    }
   ],
   "source": [
    "def mlt(u):\n",
    "    s = []\n",
    "    for k in u:\n",
    "        if k%2==0:\n",
    "            s.append(True)\n",
    "        s.append(False)\n",
    "    return s\n",
    "        \n",
    "r = list(map(int,input().split()))\n",
    "print(mlt(r))"
   ]
  },
  {
   "cell_type": "code",
   "execution_count": 10,
   "metadata": {},
   "outputs": [
    {
     "name": "stdout",
     "output_type": "stream",
     "text": [
      "3 4 5\n",
      "[True, False, False]\n"
     ]
    }
   ],
   "source": [
    "# Only 3 multiples\n",
    "def Tml(h):\n",
    "    return h%3==0\n",
    "\n",
    "e = input().split()\n",
    "q = []\n",
    "for m in e:\n",
    "    q.append(int(m))\n",
    "# print(Tml(q))\n",
    "print(list(map(Tml,q)))"
   ]
  },
  {
   "cell_type": "code",
   "execution_count": 11,
   "metadata": {},
   "outputs": [
    {
     "name": "stdout",
     "output_type": "stream",
     "text": [
      "3 4 5 6 7 8 9\n",
      "[True, False, False, True, False, False, True]\n"
     ]
    }
   ],
   "source": [
    "print(list(map(lambda t:t%3==0,map(int,input().split()))))"
   ]
  },
  {
   "cell_type": "markdown",
   "metadata": {},
   "source": [
    "```\n",
    "Filter:\n",
    "    -> It prints only True values to an iterator\n",
    "    -> Syntax:\n",
    "        filter(functionname,iterator)\n",
    "```"
   ]
  },
  {
   "cell_type": "code",
   "execution_count": 12,
   "metadata": {},
   "outputs": [
    {
     "name": "stdout",
     "output_type": "stream",
     "text": [
      "3 4 5 6 7\n",
      "[3, 6]\n"
     ]
    }
   ],
   "source": [
    "def tmul(v):\n",
    "    return v%3==0\n",
    "\n",
    "j = list(map(int,input().split()))\n",
    "print(list(filter(tmul,j)))"
   ]
  },
  {
   "cell_type": "code",
   "execution_count": 13,
   "metadata": {},
   "outputs": [
    {
     "name": "stdout",
     "output_type": "stream",
     "text": [
      "3 4 5 6 7\n",
      "[3, 6]\n"
     ]
    }
   ],
   "source": [
    "print(list(filter(lambda a:a%3==0,map(int,input().split()))))"
   ]
  },
  {
   "cell_type": "code",
   "execution_count": 14,
   "metadata": {},
   "outputs": [
    {
     "name": "stdout",
     "output_type": "stream",
     "text": [
      "2 3 4 5 6 7 2 4 5 6 7 2\n",
      "[2, 2, 2]\n"
     ]
    }
   ],
   "source": [
    "print(list(filter(lambda e:e==2,map(int,input().split()))))"
   ]
  },
  {
   "cell_type": "code",
   "execution_count": 15,
   "metadata": {},
   "outputs": [
    {
     "name": "stdout",
     "output_type": "stream",
     "text": [
      "3 4 5 2 78 98 45 20 19 56 1000\n",
      "[3, 4, 5, 2]\n"
     ]
    }
   ],
   "source": [
    "al = list(filter(lambda e:e<20,map(int,input().split())))\n",
    "print(list(filter(lambda r:r<10,al)))"
   ]
  },
  {
   "cell_type": "markdown",
   "metadata": {},
   "source": [
    "```\n",
    "reduce:\n",
    "    -> It prints or else it returns only single value\n",
    "    -> Syntax:\n",
    "        reduce(functionaname,iterator)\n",
    "    -> It can be accessible by using import statement of functools \n",
    "```"
   ]
  },
  {
   "cell_type": "code",
   "execution_count": 16,
   "metadata": {},
   "outputs": [
    {
     "name": "stdout",
     "output_type": "stream",
     "text": [
      "23 40 5 67 89\n",
      "219\n"
     ]
    }
   ],
   "source": [
    "from functools import reduce \n",
    "r = list(filter(lambda f:f>20,map(int,input().split())))\n",
    "print(reduce(lambda x,y:x+y,r))"
   ]
  },
  {
   "cell_type": "markdown",
   "metadata": {},
   "source": [
    "\n",
    "```\n",
    "a = [5, 6,7, 8]\n",
    " s = 0 + 5 => s\n",
    " s = 5 + 6 => s\n",
    " s = 11+ 7 => s\n",
    " s = 18+ 8 => s\n",
    " s = 26\n",
    "```"
   ]
  },
  {
   "cell_type": "code",
   "execution_count": 18,
   "metadata": {},
   "outputs": [
    {
     "name": "stdout",
     "output_type": "stream",
     "text": [
      " 23 40 5 67 89\n",
      "219\n"
     ]
    }
   ],
   "source": [
    "print(reduce(lambda x,y:x+y,filter(lambda f:f>20,map(int,input().split()))))"
   ]
  },
  {
   "cell_type": "markdown",
   "metadata": {},
   "source": []
  },
  {
   "cell_type": "code",
   "execution_count": null,
   "metadata": {},
   "outputs": [],
   "source": []
  }
 ],
 "metadata": {
  "kernelspec": {
   "display_name": "Python 3",
   "language": "python",
   "name": "python3"
  },
  "language_info": {
   "codemirror_mode": {
    "name": "ipython",
    "version": 3
   },
   "file_extension": ".py",
   "mimetype": "text/x-python",
   "name": "python",
   "nbconvert_exporter": "python",
   "pygments_lexer": "ipython3",
   "version": "3.7.4"
  }
 },
 "nbformat": 4,
 "nbformat_minor": 2
}
